{
  "cells": [
    {
      "cell_type": "markdown",
      "metadata": {
        "id": "view-in-github",
        "colab_type": "text"
      },
      "source": [
        "<a href=\"https://colab.research.google.com/github/SezerBugday/photogrammetry_meshroom_colab_flask/blob/main/Bitirme.ipynb\" target=\"_parent\"><img src=\"https://colab.research.google.com/assets/colab-badge.svg\" alt=\"Open In Colab\"/></a>"
      ]
    },
    {
      "cell_type": "code",
      "execution_count": null,
      "metadata": {
        "id": "Gsbk8qIVaom1"
      },
      "outputs": [],
      "source": [
        "!python3 main.py"
      ]
    },
    {
      "cell_type": "code",
      "execution_count": 49,
      "metadata": {
        "id": "eBp2VVtCaom4"
      },
      "outputs": [],
      "source": [
        "from pyngrok import ngrok\n",
        "\n",
        "import os  \n",
        "import shutil  \n",
        "\n",
        "\n",
        "from flask import Flask, flash, request, redirect, url_for,render_template\n",
        "from werkzeug.utils import secure_filename\n",
        "\n",
        "port_no = 5000\n",
        "\n",
        "import sqlite3 as sql\n",
        "\n",
        "\n",
        "con = sql.connect(\"/content/sezerdb.db\", check_same_thread=False)\n",
        "cursor = con.cursor()\n",
        "\n",
        "import smtplib\n",
        "from email.mime.multipart import MIMEMultipart\n",
        "from email.mime.text import MIMEText\n",
        "import sys\n",
        "\n",
        "\n"
      ]
    },
    {
      "cell_type": "code",
      "source": [
        "from flask import Flask, flash, request, redirect, url_for, render_template\n",
        "from werkzeug.utils import secure_filename\n",
        "\n",
        "TEMPLATE = \"/content/photogrammetry_meshroom_colab_flask/templates\"\n",
        "app = Flask(__name__, template_folder=TEMPLATE)\n",
        "app._static_folder = '/content/static/'\n",
        "\n",
        "#bootsrapt = Bootstrap(app)\n",
        "islem_durumu=False;\n",
        "\n",
        "app.config['UPLOAD_FOLDER'] = \"/content/kirli\"\n",
        "\n",
        "ngrok.set_auth_token(\"2DJyoS7QMsne6ZsjPBWlik5uBBv_37hajTNHz6NFWXeczXf7A\")\n",
        "public_url = ngrok.connect(port_no).public_url\n",
        "\n",
        "print(f\"To acces the Gloable link please click {public_url}\")\n",
        "\n",
        "\n",
        "@app.route(\"/\")\n",
        "def main_page():\n",
        "    print(\"Anasayfaya donuldu\")\n",
        "    return render_template(\"HomePage.html\")\n",
        "\n",
        "@app.route(\"/uploadimages\", methods=[\"GET\", \"POST\"])\n",
        "def upload_file():\n",
        "    print(\"resimler secildi\")\n",
        "    if request.method == 'POST':\n",
        "        files = request.files.getlist(\"image\")\n",
        "        for file in files:\n",
        "            file.save(os.path.join(app.config['UPLOAD_FOLDER'], file.filename))\n",
        "            print(\"Görseller kaydedildi\")\n",
        "            return redirect(url_for('Show_Process'))\n",
        "    return render_template(\"ShowSelectedImages.html\")\n",
        "  \n",
        "@app.route(\"/process\")\n",
        "def Show_Process():\n",
        "  if(islem_durumu==False):\n",
        "    return redirect(url_for('Process'))\n",
        "  return render_template(\"processing.html\")\n",
        "  print(\"isleniyor\")\n",
        "\n",
        "  \n",
        "@app.route(\"/sezer\")\n",
        "def Process():\n",
        "\n",
        "\n",
        "\n",
        "  return render_template(\"showModel.html\")\n",
        "  return \"çalisti\"\n",
        "  os.system(\"rembg p /content/kirli   /content/temiz\")\n",
        "  os.system(\"./meshroom/Meshroom-2019.1.0/meshroom_photogrammetry --input /content/temiz --output /content/modelFolder\")\n",
        "  os.system(\"obj2gltf -i /content/modelFolder/model.obj -o /content/static/model.glb\")\n",
        "  \n",
        "@app.route(\"/SingUp\", methods=[\"GET\", \"POST\"])\n",
        "def SingUp():\n",
        "   if request.method == 'POST':\n",
        "        name = request.form.get(\"name\")\n",
        "        surname = request.form.get(\"surname\")\n",
        "        email = request.form.get(\"email\")\n",
        "        password = request.form.get(\"password\")\n",
        "        print(\"before db\")\n",
        "        print(name)\n",
        "        #cursor.execute(\"INSERT INTO Users VALUES(name,surname,password,email)\")\n",
        "        cursor.execute(\"insert into Users values(?,?,?,?)\",(name,surname,email,password))\n",
        "        con.commit()\n",
        "        print(\"after db\")\n",
        "        # Gmail email sunucusuna bağlanıyoruz\n",
        "        try:\n",
        "            mail = smtplib.SMTP(\"smtp.gmail.com\",587)\n",
        "            mail.ehlo()\n",
        "            mail.starttls()\n",
        "            mail.login(\"sezerbugday@gmail.com\", \"vqrwxdipzjoftucq\")\n",
        "\n",
        "            mesaj = MIMEMultipart()\n",
        "            mesaj[\"From\"] = \"3D AR Object Platform \"           # Gönderen\n",
        "            mesaj[\"Subject\"] = \"Verification Code\"    # Konusu\n",
        "            mesaj[\"To\"] = email\n",
        "      \n",
        "       \n",
        "            body = \"Your Verification Code :  22 03 22 \"\n",
        "\n",
        "            body_text = MIMEText(body, \"plain\")  #\n",
        "            mesaj.attach(body_text)\n",
        "\n",
        "            mail.sendmail(mesaj[\"From\"], mesaj[\"To\"], mesaj.as_string())\n",
        "            print(\"Mail başarılı bir şekilde gönderildi.\")\n",
        "            mail.close()\n",
        "            return render_template(\"SentVerificationCode.html\")\n",
        "        # Eğer mesaj gönderirken hata olursa, hata mesajını konsole yazdırıyorum.\n",
        "        except:\n",
        "            print(\"Hata:\", sys.exc_info()[0])\n",
        "            \n",
        "   return render_template(\"SingUp.html\")\n",
        "\n",
        "@app.route(\"/Login\")\n",
        "def Login():\n",
        "  return render_template(\"LoginPage.html\")\n",
        "\n",
        "if __name__ == \"__main__\":\n",
        "    app.run()"
      ],
      "metadata": {
        "id": "CFbAfrfbvXHF",
        "outputId": "9cb8f732-aec5-43eb-9743-07c14db92f4a",
        "colab": {
          "base_uri": "https://localhost:8080/"
        }
      },
      "execution_count": 55,
      "outputs": [
        {
          "output_type": "stream",
          "name": "stdout",
          "text": [
            "To acces the Gloable link please click http://4d5d-34-90-228-175.ngrok.io\n",
            " * Serving Flask app \"__main__\" (lazy loading)\n",
            " * Environment: production\n",
            "\u001b[31m   WARNING: This is a development server. Do not use it in a production deployment.\u001b[0m\n",
            "\u001b[2m   Use a production WSGI server instead.\u001b[0m\n",
            " * Debug mode: off\n"
          ]
        },
        {
          "output_type": "stream",
          "name": "stderr",
          "text": [
            "INFO:werkzeug: * Running on http://127.0.0.1:5000/ (Press CTRL+C to quit)\n",
            "INFO:werkzeug:127.0.0.1 - - [21/Dec/2022 22:23:06] \"\u001b[37mGET / HTTP/1.1\u001b[0m\" 200 -\n"
          ]
        },
        {
          "output_type": "stream",
          "name": "stdout",
          "text": [
            "Anasayfaya donuldu\n"
          ]
        },
        {
          "output_type": "stream",
          "name": "stderr",
          "text": [
            "INFO:werkzeug:127.0.0.1 - - [21/Dec/2022 22:23:07] \"\u001b[33mGET /favicon.ico HTTP/1.1\u001b[0m\" 404 -\n",
            "INFO:werkzeug:127.0.0.1 - - [21/Dec/2022 22:23:10] \"\u001b[37mGET /uploadimages HTTP/1.1\u001b[0m\" 200 -\n"
          ]
        },
        {
          "output_type": "stream",
          "name": "stdout",
          "text": [
            "resimler secildi\n",
            "resimler secildi\n"
          ]
        },
        {
          "output_type": "stream",
          "name": "stderr",
          "text": [
            "INFO:werkzeug:127.0.0.1 - - [21/Dec/2022 22:23:15] \"\u001b[32mPOST /uploadimages HTTP/1.1\u001b[0m\" 302 -\n"
          ]
        },
        {
          "output_type": "stream",
          "name": "stdout",
          "text": [
            "Görseller kaydedildi\n"
          ]
        },
        {
          "output_type": "stream",
          "name": "stderr",
          "text": [
            "INFO:werkzeug:127.0.0.1 - - [21/Dec/2022 22:23:17] \"\u001b[32mGET /process HTTP/1.1\u001b[0m\" 302 -\n",
            "INFO:werkzeug:127.0.0.1 - - [21/Dec/2022 22:23:18] \"\u001b[37mGET /sezer HTTP/1.1\u001b[0m\" 200 -\n",
            "INFO:werkzeug:127.0.0.1 - - [21/Dec/2022 22:23:18] \"\u001b[33mGET /node_modules/xterm/css/xterm.css HTTP/1.1\u001b[0m\" 404 -\n",
            "INFO:werkzeug:127.0.0.1 - - [21/Dec/2022 22:23:19] \"\u001b[33mGET /static/kup.glb HTTP/1.1\u001b[0m\" 404 -\n",
            "INFO:werkzeug:127.0.0.1 - - [21/Dec/2022 22:23:22] \"\u001b[37mGET /SingUp?submit=Sing+Up HTTP/1.1\u001b[0m\" 200 -\n"
          ]
        },
        {
          "output_type": "stream",
          "name": "stdout",
          "text": [
            "before db\n",
            "sedfs\n",
            "after db\n"
          ]
        },
        {
          "output_type": "stream",
          "name": "stderr",
          "text": [
            "INFO:werkzeug:127.0.0.1 - - [21/Dec/2022 22:23:34] \"\u001b[37mPOST /SingUp HTTP/1.1\u001b[0m\" 200 -\n"
          ]
        },
        {
          "output_type": "stream",
          "name": "stdout",
          "text": [
            "Mail başarılı bir şekilde gönderildi.\n"
          ]
        },
        {
          "output_type": "stream",
          "name": "stderr",
          "text": [
            "INFO:werkzeug:127.0.0.1 - - [21/Dec/2022 22:23:39] \"\u001b[33mGET /dene HTTP/1.1\u001b[0m\" 404 -\n"
          ]
        }
      ]
    },
    {
      "cell_type": "code",
      "source": [],
      "metadata": {
        "id": "xDg_MZFeM2J0"
      },
      "execution_count": null,
      "outputs": []
    },
    {
      "cell_type": "code",
      "source": [
        "\n",
        "\n",
        "# Gmail email sunucusuna bağlanıyoruz\n",
        "try:\n",
        "    mail = smtplib.SMTP(\"smtp.gmail.com\",587)\n",
        "    mail.ehlo()\n",
        "    mail.starttls()\n",
        "    mail.login(\"sezerbugday@gmail.com\", \"vqrwxdipzjoftucq\")\n",
        "\n",
        "    mesaj = MIMEMultipart()\n",
        "    mesaj[\"From\"] = \"3D AR Object Platform \"           # Gönderen\n",
        "    mesaj[\"Subject\"] = \"Verification Code\"    # Konusu\n",
        "    mesaj[\"To\"] = \"sezerbugday2@gmail.com \"\n",
        "    body = \" Bu mesaj sezer tarafından python ile gönderilmiştir \"\n",
        "\n",
        "    body_text = MIMEText(body, \"plain\")  #\n",
        "    mesaj.attach(body_text)\n",
        "\n",
        "    mail.sendmail(mesaj[\"From\"], mesaj[\"To\"], mesaj.as_string())\n",
        "    print(\"Mail başarılı bir şekilde gönderildi.\")\n",
        "    mail.close()\n",
        "\n",
        "# Eğer mesaj gönderirken hata olursa, hata mesajını konsole yazdırıyorum.\n",
        "except:\n",
        "    print(\"Hata:\", sys.exc_info()[0])"
      ],
      "metadata": {
        "id": "6fSKDZrRmrpC",
        "outputId": "5f5b8a04-5898-49fe-e4c4-ede3f3f49830",
        "colab": {
          "base_uri": "https://localhost:8080/"
        }
      },
      "execution_count": 40,
      "outputs": [
        {
          "output_type": "stream",
          "name": "stdout",
          "text": [
            "Mail başarılı bir şekilde gönderildi.\n"
          ]
        }
      ]
    },
    {
      "cell_type": "code",
      "source": [
        "cursor.execute(\"Select * From Users\")\n",
        "veri = cursor.fetchall() \n",
        "print(veri)"
      ],
      "metadata": {
        "id": "xzLX65BsOcMw",
        "outputId": "92e7d4c7-da05-4abb-bf9b-b2866ce04d26",
        "colab": {
          "base_uri": "https://localhost:8080/"
        }
      },
      "execution_count": 39,
      "outputs": [
        {
          "output_type": "stream",
          "name": "stdout",
          "text": [
            "[('sezer', 'bugday', '123', 'deneme'), ('1', '2', '3', '4'), ('1', '2', '3', '4'), ('555', '1', '2', '3'), ('888', '1', '2', '3'), ('sezer', 'dsd', 'sdfdsf', 'hfghffhg')]\n"
          ]
        }
      ]
    },
    {
      "cell_type": "code",
      "source": [
        "name=\"1\"\n",
        "surname=\"2\"\n",
        "email=\"3\"\n",
        "password =\"4\"\n",
        "cursor.execute(\"insert into Users values(?,?,?,?)\",(name, surname, email,password))\n",
        "con.commit()"
      ],
      "metadata": {
        "id": "3j34qMT6gTGo"
      },
      "execution_count": 21,
      "outputs": []
    }
  ],
  "metadata": {
    "accelerator": "GPU",
    "colab": {
      "provenance": [],
      "include_colab_link": true
    },
    "kernelspec": {
      "display_name": "Python 3",
      "name": "python3"
    },
    "language_info": {
      "name": "python"
    },
    "gpuClass": "standard"
  },
  "nbformat": 4,
  "nbformat_minor": 0
}