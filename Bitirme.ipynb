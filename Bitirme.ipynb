{
  "cells": [
    {
      "cell_type": "markdown",
      "metadata": {
        "id": "view-in-github",
        "colab_type": "text"
      },
      "source": [
        "<a href=\"https://colab.research.google.com/github/SezerBugday/photogrammetry_meshroom_colab_flask/blob/main/Bitirme.ipynb\" target=\"_parent\"><img src=\"https://colab.research.google.com/assets/colab-badge.svg\" alt=\"Open In Colab\"/></a>"
      ]
    },
    {
      "cell_type": "code",
      "execution_count": null,
      "metadata": {
        "id": "Gsbk8qIVaom1"
      },
      "outputs": [],
      "source": [
        "!python3 main.py\n",
        "\n",
        "\n"
      ]
    },
    {
      "cell_type": "code",
      "execution_count": 29,
      "metadata": {
        "id": "eBp2VVtCaom4"
      },
      "outputs": [],
      "source": [
        "from pyngrok import ngrok\n",
        "\n",
        "import os  \n",
        "import shutil  \n",
        "\n",
        "from flask_bootstrap import Bootstrap\n",
        "from flask import Flask, flash, request, redirect, url_for,render_template\n",
        "from werkzeug.utils import secure_filename\n",
        "\n",
        "port_no = 5000\n",
        "\n"
      ]
    },
    {
      "cell_type": "code",
      "source": [
        "\n",
        "\n",
        "app = Flask(__name__)\n",
        "\n",
        "app._static_folder = '/content/static/'\n",
        "\n",
        "bootsrapt = Bootstrap(app)\n",
        "ngrok.set_auth_token(\"2DJyoS7QMsne6ZsjPBWlik5uBBv_37hajTNHz6NFWXeczXf7A\")\n",
        "public_url =  ngrok.connect(port_no).public_url\n",
        "\n",
        "@app.route(\"/\")\n",
        "def HomePage():\n",
        "  return render_template(\"index.html\")\n",
        "print(f\"To acces the Gloable link please click {public_url}\")\n",
        "\n",
        "\n",
        "\n",
        "if __name__ == \"__main__\":\n",
        "    app.run()"
      ],
      "metadata": {
        "id": "iGSrBnucbYKd",
        "outputId": "fed6144b-ab52-4173-e92c-26593ef04179",
        "colab": {
          "base_uri": "https://localhost:8080/"
        }
      },
      "execution_count": 30,
      "outputs": [
        {
          "output_type": "stream",
          "name": "stdout",
          "text": [
            "To acces the Gloable link please click http://9a1d-35-204-137-218.ngrok.io\n",
            " * Serving Flask app \"__main__\" (lazy loading)\n",
            " * Environment: production\n",
            "\u001b[31m   WARNING: This is a development server. Do not use it in a production deployment.\u001b[0m\n",
            "\u001b[2m   Use a production WSGI server instead.\u001b[0m\n",
            " * Debug mode: off\n"
          ]
        },
        {
          "output_type": "stream",
          "name": "stderr",
          "text": [
            "INFO:werkzeug: * Running on http://127.0.0.1:5000/ (Press CTRL+C to quit)\n",
            "INFO:werkzeug:127.0.0.1 - - [08/Dec/2022 21:55:53] \"\u001b[37mGET / HTTP/1.1\u001b[0m\" 200 -\n",
            "INFO:werkzeug:127.0.0.1 - - [08/Dec/2022 21:55:54] \"\u001b[33mGET /favicon.ico HTTP/1.1\u001b[0m\" 404 -\n",
            "INFO:werkzeug:127.0.0.1 - - [08/Dec/2022 21:56:08] \"\u001b[31m\u001b[1mPOST / HTTP/1.1\u001b[0m\" 405 -\n"
          ]
        }
      ]
    },
    {
      "cell_type": "code",
      "source": [
        "from flask import Flask, flash, request, redirect, url_for, render_template\n",
        "from werkzeug.utils import secure_filename\n",
        "\n",
        "TEMPLATE = \"/content/templates\"\n",
        "app._static_folder = '/content/static/'\n",
        "\n",
        "#bootsrapt = Bootstrap(app)\n",
        "app = Flask(__name__, template_folder=TEMPLATE)\n",
        "\n",
        "app.config['UPLOAD_FOLDER'] = \"/content/kirli\"\n",
        "\n",
        "ngrok.set_auth_token(\"2DJyoS7QMsne6ZsjPBWlik5uBBv_37hajTNHz6NFWXeczXf7A\")\n",
        "public_url = ngrok.connect(port_no).public_url\n",
        "\n",
        "print(f\"To acces the Gloable link please click {public_url}\")\n",
        "\n",
        "\n",
        "@app.route(\"/\", methods=[\"GET\", \"POST\"])\n",
        "def upload_file():\n",
        "    if request.method == 'POST':\n",
        "        files = request.files.getlist(\"image\")\n",
        "        for file in files:\n",
        "            file.save(os.path.join(app.config['UPLOAD_FOLDER'], file.filename))\n",
        "            \n",
        "        os.system(\"rembg p /content/kirli   /content/temiz\")\n",
        "        os.system(\"./meshroom/Meshroom-2019.1.0/meshroom_photogrammetry --input ./temiz/ --output ./modelFolder/\")\n",
        "        return render_template(\"showModel.html\")\n",
        "    return render_template(\"index.html\")\n",
        "\n",
        "\n",
        "@app.route(\"/denemeeee\")\n",
        "def Ac():\n",
        "    return render_template(\"dene.html\")\n",
        "\n",
        "\n",
        "if __name__ == \"__main__\":\n",
        "    app.run()"
      ],
      "metadata": {
        "id": "CFbAfrfbvXHF",
        "outputId": "37b19074-1606-44c9-9f3d-002d9b513ea6",
        "colab": {
          "base_uri": "https://localhost:8080/"
        }
      },
      "execution_count": 41,
      "outputs": [
        {
          "output_type": "stream",
          "name": "stdout",
          "text": [
            "To acces the Gloable link please click http://6bb5-35-204-137-218.ngrok.io\n",
            " * Serving Flask app \"__main__\" (lazy loading)\n",
            " * Environment: production\n",
            "\u001b[31m   WARNING: This is a development server. Do not use it in a production deployment.\u001b[0m\n",
            "\u001b[2m   Use a production WSGI server instead.\u001b[0m\n",
            " * Debug mode: off\n"
          ]
        },
        {
          "output_type": "stream",
          "name": "stderr",
          "text": [
            "INFO:werkzeug: * Running on http://127.0.0.1:5000/ (Press CTRL+C to quit)\n",
            "INFO:werkzeug:127.0.0.1 - - [08/Dec/2022 22:17:05] \"\u001b[37mGET / HTTP/1.1\u001b[0m\" 200 -\n",
            "INFO:werkzeug:127.0.0.1 - - [08/Dec/2022 22:17:06] \"\u001b[33mGET /favicon.ico HTTP/1.1\u001b[0m\" 404 -\n",
            "INFO:werkzeug:127.0.0.1 - - [08/Dec/2022 22:17:09] \"\u001b[37mPOST / HTTP/1.1\u001b[0m\" 200 -\n",
            "INFO:werkzeug:127.0.0.1 - - [08/Dec/2022 22:17:10] \"\u001b[33mGET /node_modules/xterm/css/xterm.css HTTP/1.1\u001b[0m\" 404 -\n",
            "INFO:werkzeug:127.0.0.1 - - [08/Dec/2022 22:17:10] \"\u001b[37mGET /static/GoldSword.png HTTP/1.1\u001b[0m\" 200 -\n",
            "INFO:werkzeug:127.0.0.1 - - [08/Dec/2022 22:17:11] \"\u001b[37mGET /static/kup.glb HTTP/1.1\u001b[0m\" 200 -\n"
          ]
        }
      ]
    }
  ],
  "metadata": {
    "accelerator": "GPU",
    "colab": {
      "provenance": [],
      "include_colab_link": true
    },
    "kernelspec": {
      "display_name": "Python 3",
      "name": "python3"
    },
    "language_info": {
      "name": "python"
    },
    "gpuClass": "standard"
  },
  "nbformat": 4,
  "nbformat_minor": 0
}