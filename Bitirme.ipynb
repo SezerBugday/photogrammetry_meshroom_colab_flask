{
  "cells": [
    {
      "cell_type": "markdown",
      "metadata": {
        "id": "view-in-github",
        "colab_type": "text"
      },
      "source": [
        "<a href=\"https://colab.research.google.com/github/SezerBugday/photogrammetry_meshroom_colab_flask/blob/main/Bitirme.ipynb\" target=\"_parent\"><img src=\"https://colab.research.google.com/assets/colab-badge.svg\" alt=\"Open In Colab\"/></a>"
      ]
    },
    {
      "cell_type": "code",
      "execution_count": null,
      "metadata": {
        "id": "Gsbk8qIVaom1"
      },
      "outputs": [],
      "source": [
        "!python3 main.py\n",
        "\n",
        "\n"
      ]
    },
    {
      "cell_type": "code",
      "execution_count": 2,
      "metadata": {
        "id": "eBp2VVtCaom4"
      },
      "outputs": [],
      "source": [
        "from pyngrok import ngrok\n",
        "\n",
        "import os  \n",
        "import shutil  \n",
        "\n",
        "\n",
        "from flask import Flask, flash, request, redirect, url_for,render_template\n",
        "from werkzeug.utils import secure_filename\n",
        "\n",
        "port_no = 5000\n",
        "\n"
      ]
    },
    {
      "cell_type": "code",
      "source": [
        "from flask import Flask, flash, request, redirect, url_for, render_template\n",
        "from werkzeug.utils import secure_filename\n",
        "\n",
        "TEMPLATE = \"/content/photogrammetry_meshroom_colab_flask/templates\"\n",
        "app = Flask(__name__, template_folder=TEMPLATE)\n",
        "app._static_folder = '/content/static/'\n",
        "\n",
        "#bootsrapt = Bootstrap(app)\n",
        "islem_durumu=False;\n",
        "\n",
        "app.config['UPLOAD_FOLDER'] = \"/content/kirli\"\n",
        "\n",
        "ngrok.set_auth_token(\"2DJyoS7QMsne6ZsjPBWlik5uBBv_37hajTNHz6NFWXeczXf7A\")\n",
        "public_url = ngrok.connect(port_no).public_url\n",
        "\n",
        "print(f\"To acces the Gloable link please click {public_url}\")\n",
        "\n",
        "\n",
        "@app.route(\"/\")\n",
        "def main_page():\n",
        "    print(\"Anasayfaya donuldu\")\n",
        "    return render_template(\"HomePage.html\")\n",
        "\n",
        "@app.route(\"/uploadimages\", methods=[\"GET\", \"POST\"])\n",
        "def upload_file():\n",
        "    print(\"resimler secildi\")\n",
        "    if request.method == 'POST':\n",
        "        files = request.files.getlist(\"image\")\n",
        "        for file in files:\n",
        "            file.save(os.path.join(app.config['UPLOAD_FOLDER'], file.filename))\n",
        "            print(\"Görseller kaydedildi\")\n",
        "            return redirect(url_for('Show_Process'))\n",
        "    return render_template(\"ShowSelectedImages.html\")\n",
        "  \n",
        "@app.route(\"/process\")\n",
        "def Show_Process():\n",
        "  if(islem_durumu==False):\n",
        "    return redirect(url_for('Process'))\n",
        "  return render_template(\"processing.html\")\n",
        "  print(\"isleniyor\")\n",
        "\n",
        "  \n",
        "@app.route(\"/sezer\")\n",
        "def Process():\n",
        "\n",
        "\n",
        "\n",
        "  return render_template(\"showModel.html\")\n",
        "  return \"çalisti\"\n",
        "  os.system(\"rembg p /content/kirli   /content/temiz\")\n",
        "  os.system(\"./meshroom/Meshroom-2019.1.0/meshroom_photogrammetry --input /content/temiz --output /content/modelFolder\")\n",
        "  os.system(\"obj2gltf -i /content/modelFolder/model.obj -o /content/static/model.glb\")\n",
        "  \n",
        "@app.route(\"/SingUp\", methods=[\"GET\", \"POST\"])\n",
        "def SingUp():\n",
        "   if request.method == 'POST':\n",
        "        name = request.form.get(\"name\")\n",
        "        print(name)\n",
        "   return render_template(\"SingUp.html\")\n",
        "\n",
        "@app.route(\"/Login\")\n",
        "def Login():\n",
        "  return render_template(\"LoginPage.html\")\n",
        "\n",
        "if __name__ == \"__main__\":\n",
        "    app.run()"
      ],
      "metadata": {
        "id": "CFbAfrfbvXHF"
      },
      "execution_count": null,
      "outputs": []
    },
    {
      "cell_type": "code",
      "source": [
        "import smtplib\n",
        "from email.mime.multipart import MIMEMultipart\n",
        "from email.mime.text import MIMEText\n",
        "import sys\n",
        "\n",
        "# Gmail email sunucusuna bağlanıyoruz\n",
        "try:\n",
        "    mail = smtplib.SMTP(\"smtp.gmail.com\",587)\n",
        "    mail.ehlo()\n",
        "    mail.starttls()\n",
        "    mail.login(\"sezerbugday@gmail.com\", \"vqrwxdipzjoftucq\")\n",
        "\n",
        "    mesaj = MIMEMultipart()\n",
        "    mesaj[\"From\"] = \"3D AR Object Platform \"           # Gönderen\n",
        "    mesaj[\"Subject\"] = \"Verification Code\"    # Konusu\n",
        "    mesaj[\"To\"] = \"sezerbugday2@gmail.com \"\n",
        "    body = \" Bu mesaj sezer tarafından python ile gönderilmiştir \"\n",
        "\n",
        "    body_text = MIMEText(body, \"plain\")  #\n",
        "    mesaj.attach(body_text)\n",
        "\n",
        "    mail.sendmail(mesaj[\"From\"], mesaj[\"To\"], mesaj.as_string())\n",
        "    print(\"Mail başarılı bir şekilde gönderildi.\")\n",
        "    mail.close()\n",
        "\n",
        "# Eğer mesaj gönderirken hata olursa, hata mesajını konsole yazdırıyorum.\n",
        "except:\n",
        "    print(\"Hata:\", sys.exc_info()[0])"
      ],
      "metadata": {
        "id": "6fSKDZrRmrpC",
        "outputId": "333d1eeb-9281-46fe-ca94-f25f94484830",
        "colab": {
          "base_uri": "https://localhost:8080/"
        }
      },
      "execution_count": 18,
      "outputs": [
        {
          "output_type": "stream",
          "name": "stdout",
          "text": [
            "Mail başarılı bir şekilde gönderildi.\n"
          ]
        }
      ]
    }
  ],
  "metadata": {
    "accelerator": "GPU",
    "colab": {
      "provenance": [],
      "include_colab_link": true
    },
    "kernelspec": {
      "display_name": "Python 3",
      "name": "python3"
    },
    "language_info": {
      "name": "python"
    },
    "gpuClass": "standard"
  },
  "nbformat": 4,
  "nbformat_minor": 0
}