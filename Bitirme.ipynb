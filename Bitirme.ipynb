{
  "cells": [
    {
      "cell_type": "markdown",
      "metadata": {
        "id": "view-in-github",
        "colab_type": "text"
      },
      "source": [
        "<a href=\"https://colab.research.google.com/github/SezerBugday/photogrammetry_meshroom_colab_flask/blob/main/Bitirme.ipynb\" target=\"_parent\"><img src=\"https://colab.research.google.com/assets/colab-badge.svg\" alt=\"Open In Colab\"/></a>"
      ]
    },
    {
      "cell_type": "code",
      "execution_count": null,
      "metadata": {
        "id": "Gsbk8qIVaom1"
      },
      "outputs": [],
      "source": [
        "!python3 main.py"
      ]
    },
    {
      "cell_type": "code",
      "execution_count": 2,
      "metadata": {
        "id": "eBp2VVtCaom4"
      },
      "outputs": [],
      "source": [
        "from pyngrok import ngrok\n",
        "\n",
        "import os  \n",
        "import shutil  \n",
        "\n",
        "\n",
        "from flask import Flask, flash, request, redirect, url_for,render_template\n",
        "from werkzeug.utils import secure_filename\n",
        "\n",
        "port_no = 5000\n",
        "\n",
        "import sqlite3 as sql\n",
        "\n",
        "\n",
        "con = sql.connect(\"/content/photogrammetry_meshroom_colab_flask/sezerdb.db\", check_same_thread=False)\n",
        "cursor = con.cursor()\n",
        "\n",
        "import smtplib\n",
        "from email.mime.multipart import MIMEMultipart\n",
        "from email.mime.text import MIMEText\n",
        "import sys\n",
        "\n",
        "import random\n"
      ]
    },
    {
      "cell_type": "code",
      "source": [
        "from flask import Flask, flash, request, redirect, url_for, render_template\n",
        "from werkzeug.utils import secure_filename\n",
        "\n",
        "TEMPLATE = \"/content/photogrammetry_meshroom_colab_flask/templates\"\n",
        "app = Flask(__name__, template_folder=TEMPLATE)\n",
        "app._static_folder = '/content/static/'\n",
        "\n",
        "#bootsrapt = Bootstrap(app)\n",
        "islem_durumu=False;\n",
        "\n",
        "\n",
        "app.config['UPLOAD_FOLDER'] = \"/content/kirli\"\n",
        "\n",
        "ngrok.set_auth_token(\"2DJyoS7QMsne6ZsjPBWlik5uBBv_37hajTNHz6NFWXeczXf7A\")\n",
        "public_url = ngrok.connect(port_no).public_url\n",
        "\n",
        "print(f\"To acces the Gloable link please click {public_url}\")\n",
        "\n",
        "\n",
        "@app.route(\"/\")\n",
        "def main_page():\n",
        "\n",
        "    print(\"Anasayfaya donuldu\")\n",
        "    return render_template(\"HomePage.html\")\n",
        "\n",
        "@app.route(\"/uploadimages\", methods=[\"GET\", \"POST\"])\n",
        "def upload_file():\n",
        "    print(\"resimler secildi\")\n",
        "    if request.method == 'POST':\n",
        "        files = request.files.getlist(\"image\")\n",
        "        for file in files:\n",
        "            file.save(os.path.join(app.config['UPLOAD_FOLDER'], file.filename))\n",
        "            print(\"Görseller kaydedildi\")\n",
        "            return redirect(url_for('Show_Process'))\n",
        "    return render_template(\"ShowSelectedImages.html\")\n",
        "  \n",
        "@app.route(\"/process\")\n",
        "def Show_Process():\n",
        "  if(islem_durumu==False):\n",
        "    return redirect(url_for('Process'))\n",
        "  return render_template(\"processing.html\")\n",
        "  print(\"isleniyor\")\n",
        "\n",
        "  \n",
        "@app.route(\"/sezer\")\n",
        "def Process():\n",
        "  return render_template(\"showModel.html\")\n",
        "  return \"çalisti\"\n",
        "  os.system(\"rembg p /content/kirli   /content/temiz\")\n",
        "  os.system(\"./meshroom/Meshroom-2019.1.0/meshroom_photogrammetry --input /content/temiz --output /content/modelFolder\")\n",
        "  os.system(\"obj2gltf -i /content/modelFolder/model.obj -o /content/static/model.glb\")\n",
        "  \n",
        "@app.route(\"/SingUp\", methods=[\"GET\", \"POST\"])\n",
        "def SingUp():\n",
        "   if request.method == 'POST':\n",
        "        name = request.form.get(\"name\")\n",
        "        surname = request.form.get(\"surname\")\n",
        "        global email\n",
        "        email = request.form.get(\"email\")\n",
        "        password = request.form.get(\"password\")\n",
        "        print(\"before db\")\n",
        "        print(name)\n",
        "        #cursor.execute(\"INSERT INTO Users VALUES(name,surname,password,email)\")\n",
        "        cursor.execute(\"insert into Users values(?,?,?,?,?,?)\",(name, surname, password,email,0,None))\n",
        "        con.commit()\n",
        "        print(\"after db\")\n",
        "        # Gmail email sunucusuna bağlanıyoruz\n",
        "        try:\n",
        "            global ver_code\n",
        "            ver_code = random.randint(100000,999999)\n",
        "            print(\"vercode\", ver_code)\n",
        "            mail = smtplib.SMTP(\"smtp.gmail.com\",587)\n",
        "            mail.ehlo()\n",
        "            mail.starttls()\n",
        "            mail.login(\"sezerbugday@gmail.com\", \"vqrwxdipzjoftucq\")\n",
        "            mesaj = MIMEMultipart()\n",
        "            mesaj[\"From\"] = \"3D AR Object Platform \"           # Gönderen\n",
        "            mesaj[\"Subject\"] = \"Verification Code\"   # Konusu\n",
        "            mesaj[\"To\"] = email\n",
        "            body = \"Your Verification Code :  \"+ str(ver_code) \n",
        "            body_text = MIMEText(body, \"plain\")  #\n",
        "            mesaj.attach(body_text)\n",
        "            mail.sendmail(mesaj[\"From\"], mesaj[\"To\"], mesaj.as_string())\n",
        "            print(\"Mail başarılı bir şekilde gönderildi.\")\n",
        "            mail.close()\n",
        "            return render_template(\"SentVerificationCode.html\")\n",
        "        # Eğer mesaj gönderirken hata olursa, hata mesajını konsole yazdırıyorum.\n",
        "        except:\n",
        "            print(\"Hata:\", sys.exc_info()[0])\n",
        "            \n",
        "   return render_template(\"SingUp.html\")\n",
        "\n",
        "@app.route(\"/SentCode\", methods=[\"GET\", \"POST\"])\n",
        "def SentCode():\n",
        "  if request.method == 'POST':\n",
        "    code = request.form.get(\"sifre\")\n",
        "    print(\"gelen kod\", ver_code)\n",
        "    print(\"girilen kod\", code)\n",
        "\n",
        "    if(int(code) == ver_code):\n",
        "      cursor.execute(\"UPDATE Users SET Is_Active = 1 WHERE Email = email\" )\n",
        "      con.commit()\n",
        "      return render_template(\"Login.html\",yazi=\"Tebrikler mailiniz onaylandı şimdi giriş yapabilirsiniz.\")\n",
        "    else:\n",
        "      return render_template(\"SentVerificationCode.html\",yazi=\"Mail onaylanmadı kodu tekrar giriniz.\")\n",
        "  return render_template(\"SentVerificationCode.html\")\n",
        "\n",
        "  \n",
        "@app.route(\"/CheckLogin\", methods=[\"GET\", \"POST\"])\n",
        "def CheckLogin():\n",
        "  if request.method == 'POST':\n",
        "    user_mail = request.form.get(\"email\")\n",
        "    user_password = request.form.get(\"password\")\n",
        "    print(\"Check\",user_mail)\n",
        "    print(\"Check2\",user_password)\n",
        "    cursor.execute(\"SELECT * FROM  Users WHERE Email = ? and Password = ? \", (user_mail, user_password))\n",
        "    veri = cursor.fetchall() \n",
        "    if len(veri) != 0:\n",
        "      return render_template(\"AddProduct.html\")\n",
        "    else:\n",
        "      return render_template(\"Login.html\",yazi=\"Kullanıcı maili veya şifre yanlış tekrar deneyiniz\")\n",
        "  \n",
        "\n",
        "\n",
        "       \n",
        "if __name__ == \"__main__\":\n",
        "    app.run()"
      ],
      "metadata": {
        "id": "CFbAfrfbvXHF"
      },
      "execution_count": null,
      "outputs": []
    },
    {
      "cell_type": "code",
      "source": [
        "\n",
        "\n",
        "# Gmail email sunucusuna bağlanıyoruz\n",
        "try:\n",
        "    mail = smtplib.SMTP(\"smtp.gmail.com\",587)\n",
        "    mail.ehlo()\n",
        "    mail.starttls()\n",
        "    mail.login(\"sezerbugday@gmail.com\", \"vqrwxdipzjoftucq\")\n",
        "\n",
        "    mesaj = MIMEMultipart()\n",
        "    mesaj[\"From\"] = \"3D AR Object Platform \"           # Gönderen\n",
        "    mesaj[\"Subject\"] = \"Verification Code\"    # Konusu\n",
        "    mesaj[\"To\"] = \"sezerbugday2@gmail.com \"\n",
        "    body = \" Bu mesaj sezer tarafından python ile gönderilmiştir \"\n",
        "\n",
        "    body_text = MIMEText(body, \"plain\")  #\n",
        "    mesaj.attach(body_text)\n",
        "\n",
        "    mail.sendmail(mesaj[\"From\"], mesaj[\"To\"], mesaj.as_string())\n",
        "    print(\"Mail başarılı bir şekilde gönderildi.\")\n",
        "    mail.close()\n",
        "\n",
        "# Eğer mesaj gönderirken hata olursa, hata mesajını konsole yazdırıyorum.\n",
        "except:\n",
        "    print(\"Hata:\", sys.exc_info()[0])"
      ],
      "metadata": {
        "id": "6fSKDZrRmrpC",
        "outputId": "5f5b8a04-5898-49fe-e4c4-ede3f3f49830",
        "colab": {
          "base_uri": "https://localhost:8080/"
        }
      },
      "execution_count": null,
      "outputs": [
        {
          "output_type": "stream",
          "name": "stdout",
          "text": [
            "Mail başarılı bir şekilde gönderildi.\n"
          ]
        }
      ]
    },
    {
      "cell_type": "code",
      "source": [
        "cursor.execute(\"Select * From Users\")\n",
        "veri = cursor.fetchall() \n",
        "print(veri)"
      ],
      "metadata": {
        "id": "xzLX65BsOcMw",
        "outputId": "06ea27a9-d27d-4ee7-f8e8-3a61e69834d2",
        "colab": {
          "base_uri": "https://localhost:8080/"
        }
      },
      "execution_count": null,
      "outputs": [
        {
          "output_type": "stream",
          "name": "stdout",
          "text": [
            "[('name', 'surname', '123456', 'sezerbugday2@gmail.com', 1, 35), ('nisa', 'dalkiran', '220322', 'nnurdalkiran@gmail.com', 1, 36), ('nisa', 'dalkiran', '123456', 'nnurdalkiran@gmail.com', 1, 37), (None, None, 'gfdfgd', 'dfggfd@dgfdgf', 1, 38), ('dsa', 'sda', '220322', 'sezerbugday2@gmail.com', 1, 39), ('dsfd', 'sdfdsf', '123456', 'sezerbugday2@gmail.com', 1, 40), ('sezer', '1234', '1998', 'sezerbugday2@gmail.com', 1, 41), ('sdf', 'sdfdfs', '123456', 'sezerbugday2@gmail.com', 1, 42)]\n"
          ]
        }
      ]
    },
    {
      "cell_type": "code",
      "source": [
        "cursor.execute(\"insert into Users values(?,?,?,?,?,?)\",(\"name\", \"surname\", \"123456\",\"sezerbugday2@gmail.com\",0,None))\n",
        "con.commit()"
      ],
      "metadata": {
        "id": "kMFSoGl5NLL5"
      },
      "execution_count": null,
      "outputs": []
    },
    {
      "cell_type": "code",
      "source": [
        "cursor.execute(\"SELECT * FROM  Users WHERE Email = 'sezerbugday2@gmail.com' and Password = 123456\")\n",
        "veri = cursor.fetchall() \n",
        "print(veri)\n",
        "print(len(veri))"
      ],
      "metadata": {
        "id": "GJ4wlpoENCWy",
        "outputId": "12f833cc-4f3f-4e3b-8ba6-6836845c399c",
        "colab": {
          "base_uri": "https://localhost:8080/"
        }
      },
      "execution_count": null,
      "outputs": [
        {
          "output_type": "stream",
          "name": "stdout",
          "text": [
            "[('name', 'surname', '123456', 'sezerbugday2@gmail.com', 1, 35)]\n",
            "1\n"
          ]
        }
      ]
    },
    {
      "cell_type": "code",
      "source": [
        "def VeriSil():\n",
        "    cursor.execute(\"DELETE FROM Users\")\n",
        "    con.commit()\n",
        "VeriSil()"
      ],
      "metadata": {
        "id": "2b-87bJhqsZK"
      },
      "execution_count": null,
      "outputs": []
    },
    {
      "cell_type": "code",
      "source": [
        "%cd /content/photogrammetry_meshroom_colab_flask"
      ],
      "metadata": {
        "id": "FapSZiZal00O",
        "outputId": "d35ca491-a154-4980-9b36-8622d4596d4f",
        "colab": {
          "base_uri": "https://localhost:8080/"
        }
      },
      "execution_count": 9,
      "outputs": [
        {
          "output_type": "stream",
          "name": "stdout",
          "text": [
            "/content/photogrammetry_meshroom_colab_flask\n"
          ]
        }
      ]
    },
    {
      "cell_type": "code",
      "source": [
        "!git status\n"
      ],
      "metadata": {
        "id": "oxPAUGEpEJb5",
        "outputId": "bc5ba198-5f38-4163-df70-7d958b56730e",
        "colab": {
          "base_uri": "https://localhost:8080/"
        }
      },
      "execution_count": 11,
      "outputs": [
        {
          "output_type": "stream",
          "name": "stdout",
          "text": [
            "On branch main\n",
            "Your branch is up to date with 'origin/main'.\n",
            "\n",
            "Changes not staged for commit:\n",
            "  (use \"git add <file>...\" to update what will be committed)\n",
            "  (use \"git checkout -- <file>...\" to discard changes in working directory)\n",
            "\n",
            "\t\u001b[31mmodified:   sezerdb.db\u001b[m\n",
            "\t\u001b[31mmodified:   templates/HomePage.html\u001b[m\n",
            "\n",
            "Untracked files:\n",
            "  (use \"git add <file>...\" to include in what will be committed)\n",
            "\n",
            "\t\u001b[31mtemplates/Profil.html\u001b[m\n",
            "\n",
            "no changes added to commit (use \"git add\" and/or \"git commit -a\")\n"
          ]
        }
      ]
    },
    {
      "cell_type": "code",
      "source": [
        "!git add --all  "
      ],
      "metadata": {
        "id": "nXT4REf8Efcf"
      },
      "execution_count": 12,
      "outputs": []
    },
    {
      "cell_type": "code",
      "source": [
        "!git config --global user.email \"sezerbugday2@gmail.com\""
      ],
      "metadata": {
        "id": "2IsTt53GE7cI"
      },
      "execution_count": 14,
      "outputs": []
    },
    {
      "cell_type": "code",
      "source": [
        "!git commit -a -m \"urun tablosu eklendi\"\n"
      ],
      "metadata": {
        "id": "IyEbA3etEnru",
        "outputId": "f457bb20-7968-4438-9035-7a63a8917f45",
        "colab": {
          "base_uri": "https://localhost:8080/"
        }
      },
      "execution_count": 15,
      "outputs": [
        {
          "output_type": "stream",
          "name": "stdout",
          "text": [
            "[main 8120091] urun tablosu eklendi\n",
            " 3 files changed, 371 insertions(+), 53 deletions(-)\n",
            " rewrite templates/HomePage.html (93%)\n",
            " create mode 100644 templates/Profil.html\n"
          ]
        }
      ]
    },
    {
      "cell_type": "code",
      "source": [
        "!git branch"
      ],
      "metadata": {
        "id": "sonbfmadFn6a",
        "outputId": "0ec6c1b4-9092-44d4-80f4-9039b637a327",
        "colab": {
          "base_uri": "https://localhost:8080/"
        }
      },
      "execution_count": 16,
      "outputs": [
        {
          "output_type": "stream",
          "name": "stdout",
          "text": [
            "* \u001b[32mmain\u001b[m\n"
          ]
        }
      ]
    },
    {
      "cell_type": "code",
      "source": [
        "!git push origin main"
      ],
      "metadata": {
        "id": "hs98agLqFZpZ",
        "outputId": "20c516dc-7148-4809-b8c6-31d16c2f0786",
        "colab": {
          "base_uri": "https://localhost:8080/"
        }
      },
      "execution_count": 17,
      "outputs": [
        {
          "output_type": "stream",
          "name": "stdout",
          "text": [
            "Counting objects: 6, done.\n",
            "Delta compression using up to 2 threads.\n",
            "Compressing objects:  16% (1/6)   \rCompressing objects:  33% (2/6)   \rCompressing objects:  50% (3/6)   \rCompressing objects:  66% (4/6)   \rCompressing objects:  83% (5/6)   \rCompressing objects: 100% (6/6)   \rCompressing objects: 100% (6/6), done.\n",
            "Writing objects:  16% (1/6)   \rWriting objects:  33% (2/6)   \rWriting objects:  50% (3/6)   \rWriting objects:  66% (4/6)   \rWriting objects:  83% (5/6)   \rWriting objects: 100% (6/6)   \rWriting objects: 100% (6/6), 3.85 KiB | 3.85 MiB/s, done.\n",
            "Total 6 (delta 3), reused 0 (delta 0)\n",
            "remote: Resolving deltas:   0% (0/3)\u001b[K\rremote: Resolving deltas:  33% (1/3)\u001b[K\rremote: Resolving deltas:  66% (2/3)\u001b[K\rremote: Resolving deltas: 100% (3/3)\u001b[K\rremote: Resolving deltas: 100% (3/3), completed with 3 local objects.\u001b[K\n",
            "To https://github.com/SezerBugday/photogrammetry_meshroom_colab_flask.git\n",
            "   c1bc377..8120091  main -> main\n"
          ]
        }
      ]
    }
  ],
  "metadata": {
    "accelerator": "GPU",
    "colab": {
      "provenance": [],
      "include_colab_link": true
    },
    "kernelspec": {
      "display_name": "Python 3",
      "name": "python3"
    },
    "language_info": {
      "name": "python"
    },
    "gpuClass": "standard"
  },
  "nbformat": 4,
  "nbformat_minor": 0
}