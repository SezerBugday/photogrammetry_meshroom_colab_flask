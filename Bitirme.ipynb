{
  "cells": [
    {
      "cell_type": "markdown",
      "metadata": {
        "id": "view-in-github",
        "colab_type": "text"
      },
      "source": [
        "<a href=\"https://colab.research.google.com/github/SezerBugday/photogrammetry_meshroom_colab_flask/blob/main/Bitirme.ipynb\" target=\"_parent\"><img src=\"https://colab.research.google.com/assets/colab-badge.svg\" alt=\"Open In Colab\"/></a>"
      ]
    },
    {
      "cell_type": "code",
      "execution_count": null,
      "metadata": {
        "id": "Gsbk8qIVaom1"
      },
      "outputs": [],
      "source": [
        "!python3 main.py"
      ]
    },
    {
      "cell_type": "code",
      "execution_count": 35,
      "metadata": {
        "id": "eBp2VVtCaom4"
      },
      "outputs": [],
      "source": [
        "from pyngrok import ngrok\n",
        "\n",
        "import os  \n",
        "import shutil  \n",
        "\n",
        "\n",
        "from flask import Flask, flash, request, redirect, url_for,render_template\n",
        "from werkzeug.utils import secure_filename\n",
        "\n",
        "port_no = 5000\n",
        "\n",
        "import sqlite3 as sql\n",
        "\n",
        "\n",
        "con = sql.connect(\"/content/photogrammetry_meshroom_colab_flask/sezerdb.db\", check_same_thread=False)\n",
        "cursor = con.cursor()\n",
        "\n",
        "import smtplib\n",
        "from email.mime.multipart import MIMEMultipart\n",
        "from email.mime.text import MIMEText\n",
        "import sys\n",
        "\n",
        "import random\n"
      ]
    },
    {
      "cell_type": "code",
      "source": [
        "from flask import Flask, flash, request, redirect, url_for, render_template\n",
        "from werkzeug.utils import secure_filename\n",
        "\n",
        "TEMPLATE = \"/content/photogrammetry_meshroom_colab_flask/templates\"\n",
        "app = Flask(__name__, template_folder=TEMPLATE)\n",
        "app._static_folder = '/content/static/'\n",
        "\n",
        "#bootsrapt = Bootstrap(app)\n",
        "islem_durumu=False;\n",
        "\n",
        "\n",
        "app.config['UPLOAD_FOLDER'] = \"/content/kirli\"\n",
        "\n",
        "ngrok.set_auth_token(\"2DJyoS7QMsne6ZsjPBWlik5uBBv_37hajTNHz6NFWXeczXf7A\")\n",
        "public_url = ngrok.connect(port_no).public_url\n",
        "\n",
        "print(f\"To acces the Gloable link please click {public_url}\")\n",
        "\n",
        "\n",
        "@app.route(\"/\")\n",
        "def main_page():\n",
        "\n",
        "    print(\"Anasayfaya donuldu\")\n",
        "    return render_template(\"HomePage.html\")\n",
        "\n",
        "@app.route(\"/uploadimages\", methods=[\"GET\", \"POST\"])\n",
        "def upload_file():\n",
        "    print(\"resimler secildi\")\n",
        "    if request.method == 'POST':\n",
        "        files = request.files.getlist(\"image\")\n",
        "        for file in files:\n",
        "            file.save(os.path.join(app.config['UPLOAD_FOLDER'], file.filename))\n",
        "            print(\"Görseller kaydedildi\")\n",
        "            return redirect(url_for('Show_Process'))\n",
        "    return render_template(\"ShowSelectedImages.html\")\n",
        "  \n",
        "@app.route(\"/process\")\n",
        "def Show_Process():\n",
        "  if(islem_durumu==False):\n",
        "    return redirect(url_for('Process'))\n",
        "  return render_template(\"processing.html\")\n",
        "  print(\"isleniyor\")\n",
        "\n",
        "  \n",
        "@app.route(\"/sezer\")\n",
        "def Process():\n",
        "  return render_template(\"showModel.html\")\n",
        "  return \"çalisti\"\n",
        "  os.system(\"rembg p /content/kirli   /content/temiz\")\n",
        "  os.system(\"./meshroom/Meshroom-2019.1.0/meshroom_photogrammetry --input /content/temiz --output /content/modelFolder\")\n",
        "  os.system(\"obj2gltf -i /content/modelFolder/model.obj -o /content/static/model.glb\")\n",
        "  \n",
        "@app.route(\"/SingUp\", methods=[\"GET\", \"POST\"])\n",
        "def SingUp():\n",
        "   if request.method == 'POST':\n",
        "        name = request.form.get(\"name\")\n",
        "        surname = request.form.get(\"surname\")\n",
        "        global email\n",
        "        email = request.form.get(\"email\")\n",
        "        password = request.form.get(\"password\")\n",
        "        print(\"before db\")\n",
        "        print(name)\n",
        "        #cursor.execute(\"INSERT INTO Users VALUES(name,surname,password,email)\")\n",
        "        cursor.execute(\"insert into Users values(?,?,?,?,?,?)\",(name, surname, password,email,0,None))\n",
        "        con.commit()\n",
        "        print(\"after db\")\n",
        "        # Gmail email sunucusuna bağlanıyoruz\n",
        "        try:\n",
        "            global ver_code\n",
        "            ver_code = random.randint(100000,999999)\n",
        "            print(\"vercode\", ver_code)\n",
        "            mail = smtplib.SMTP(\"smtp.gmail.com\",587)\n",
        "            mail.ehlo()\n",
        "            mail.starttls()\n",
        "            mail.login(\"sezerbugday@gmail.com\", \"vqrwxdipzjoftucq\")\n",
        "            mesaj = MIMEMultipart()\n",
        "            mesaj[\"From\"] = \"3D AR Object Platform \"           # Gönderen\n",
        "            mesaj[\"Subject\"] = \"Verification Code\"   # Konusu\n",
        "            mesaj[\"To\"] = email\n",
        "            body = \"Your Verification Code :  \"+ str(ver_code) \n",
        "            body_text = MIMEText(body, \"plain\")  #\n",
        "            mesaj.attach(body_text)\n",
        "            mail.sendmail(mesaj[\"From\"], mesaj[\"To\"], mesaj.as_string())\n",
        "            print(\"Mail başarılı bir şekilde gönderildi.\")\n",
        "            mail.close()\n",
        "            return render_template(\"SentVerificationCode.html\")\n",
        "        # Eğer mesaj gönderirken hata olursa, hata mesajını konsole yazdırıyorum.\n",
        "        except:\n",
        "            print(\"Hata:\", sys.exc_info()[0])\n",
        "            \n",
        "   return render_template(\"SingUp.html\")\n",
        "\n",
        "@app.route(\"/SentCode\", methods=[\"GET\", \"POST\"])\n",
        "def SentCode():\n",
        "  if request.method == 'POST':\n",
        "    code = request.form.get(\"sifre\")\n",
        "    print(\"gelen kod\", ver_code)\n",
        "    print(\"girilen kod\", code)\n",
        "\n",
        "    if(int(code) == ver_code):\n",
        "      cursor.execute(\"UPDATE Users SET Is_Active = 1 WHERE Email = email\" )\n",
        "      con.commit()\n",
        "      return render_template(\"Login.html\",yazi=\"Tebrikler mailiniz onaylandı şimdi giriş yapabilirsiniz.\")\n",
        "    else:\n",
        "      return render_template(\"SentVerificationCode.html\",yazi=\"Mail onaylanmadı kodu tekrar giriniz.\")\n",
        "  return render_template(\"SentVerificationCode.html\")\n",
        "\n",
        "       \n",
        "if __name__ == \"__main__\":\n",
        "    app.run()"
      ],
      "metadata": {
        "id": "CFbAfrfbvXHF",
        "outputId": "769c50ce-9947-4d02-b2ef-7640311a224f",
        "colab": {
          "base_uri": "https://localhost:8080/"
        }
      },
      "execution_count": 34,
      "outputs": [
        {
          "output_type": "stream",
          "name": "stdout",
          "text": [
            "To acces the Gloable link please click http://42fe-35-232-247-204.ngrok.io\n",
            " * Serving Flask app \"__main__\" (lazy loading)\n",
            " * Environment: production\n",
            "\u001b[31m   WARNING: This is a development server. Do not use it in a production deployment.\u001b[0m\n",
            "\u001b[2m   Use a production WSGI server instead.\u001b[0m\n",
            " * Debug mode: off\n"
          ]
        },
        {
          "output_type": "stream",
          "name": "stderr",
          "text": [
            "INFO:werkzeug: * Running on http://127.0.0.1:5000/ (Press CTRL+C to quit)\n",
            "INFO:werkzeug:127.0.0.1 - - [23/Dec/2022 17:24:16] \"\u001b[37mGET / HTTP/1.1\u001b[0m\" 200 -\n"
          ]
        },
        {
          "output_type": "stream",
          "name": "stdout",
          "text": [
            "Anasayfaya donuldu\n"
          ]
        },
        {
          "output_type": "stream",
          "name": "stderr",
          "text": [
            "INFO:werkzeug:127.0.0.1 - - [23/Dec/2022 17:24:16] \"\u001b[33mGET /favicon.ico HTTP/1.1\u001b[0m\" 404 -\n",
            "INFO:werkzeug:127.0.0.1 - - [23/Dec/2022 17:24:25] \"\u001b[37mGET /uploadimages HTTP/1.1\u001b[0m\" 200 -\n"
          ]
        },
        {
          "output_type": "stream",
          "name": "stdout",
          "text": [
            "resimler secildi\n",
            "resimler secildi\n"
          ]
        },
        {
          "output_type": "stream",
          "name": "stderr",
          "text": [
            "INFO:werkzeug:127.0.0.1 - - [23/Dec/2022 17:24:34] \"\u001b[32mPOST /uploadimages HTTP/1.1\u001b[0m\" 302 -\n"
          ]
        },
        {
          "output_type": "stream",
          "name": "stdout",
          "text": [
            "Görseller kaydedildi\n"
          ]
        },
        {
          "output_type": "stream",
          "name": "stderr",
          "text": [
            "INFO:werkzeug:127.0.0.1 - - [23/Dec/2022 17:24:34] \"\u001b[32mGET /process HTTP/1.1\u001b[0m\" 302 -\n",
            "INFO:werkzeug:127.0.0.1 - - [23/Dec/2022 17:24:34] \"\u001b[37mGET /sezer HTTP/1.1\u001b[0m\" 200 -\n",
            "INFO:werkzeug:127.0.0.1 - - [23/Dec/2022 17:24:35] \"\u001b[33mGET /node_modules/xterm/css/xterm.css HTTP/1.1\u001b[0m\" 404 -\n",
            "INFO:werkzeug:127.0.0.1 - - [23/Dec/2022 17:24:36] \"\u001b[33mGET /static/kup.glb HTTP/1.1\u001b[0m\" 404 -\n",
            "INFO:werkzeug:127.0.0.1 - - [23/Dec/2022 17:24:37] \"\u001b[37mGET /SingUp?submit=Sing+Up HTTP/1.1\u001b[0m\" 200 -\n"
          ]
        },
        {
          "output_type": "stream",
          "name": "stdout",
          "text": [
            "before db\n",
            "xcvcx\n",
            "after db\n",
            "vercode 469635\n"
          ]
        },
        {
          "output_type": "stream",
          "name": "stderr",
          "text": [
            "INFO:werkzeug:127.0.0.1 - - [23/Dec/2022 17:24:54] \"\u001b[37mPOST /SingUp HTTP/1.1\u001b[0m\" 200 -\n"
          ]
        },
        {
          "output_type": "stream",
          "name": "stdout",
          "text": [
            "Mail başarılı bir şekilde gönderildi.\n"
          ]
        },
        {
          "output_type": "stream",
          "name": "stderr",
          "text": [
            "ERROR:__main__:Exception on /SentCode [POST]\n",
            "Traceback (most recent call last):\n",
            "  File \"/usr/local/lib/python3.8/dist-packages/flask/app.py\", line 2447, in wsgi_app\n",
            "    response = self.full_dispatch_request()\n",
            "  File \"/usr/local/lib/python3.8/dist-packages/flask/app.py\", line 1952, in full_dispatch_request\n",
            "    rv = self.handle_user_exception(e)\n",
            "  File \"/usr/local/lib/python3.8/dist-packages/flask/app.py\", line 1821, in handle_user_exception\n",
            "    reraise(exc_type, exc_value, tb)\n",
            "  File \"/usr/local/lib/python3.8/dist-packages/flask/_compat.py\", line 39, in reraise\n",
            "    raise value\n",
            "  File \"/usr/local/lib/python3.8/dist-packages/flask/app.py\", line 1950, in full_dispatch_request\n",
            "    rv = self.dispatch_request()\n",
            "  File \"/usr/local/lib/python3.8/dist-packages/flask/app.py\", line 1936, in dispatch_request\n",
            "    return self.view_functions[rule.endpoint](**req.view_args)\n",
            "  File \"<ipython-input-34-15a0f565c9d5>\", line 99, in SentCode\n",
            "    if(int(code) == ver_code):\n",
            "ValueError: invalid literal for int() with base 10: 'dfdfdd'\n",
            "INFO:werkzeug:127.0.0.1 - - [23/Dec/2022 17:25:05] \"\u001b[35m\u001b[1mPOST /SentCode HTTP/1.1\u001b[0m\" 500 -\n"
          ]
        },
        {
          "output_type": "stream",
          "name": "stdout",
          "text": [
            "gelen kod 469635\n",
            "girilen kod dfdfdd\n"
          ]
        },
        {
          "output_type": "stream",
          "name": "stderr",
          "text": [
            "ERROR:__main__:Exception on /SentCode [POST]\n",
            "Traceback (most recent call last):\n",
            "  File \"/usr/local/lib/python3.8/dist-packages/flask/app.py\", line 2447, in wsgi_app\n",
            "    response = self.full_dispatch_request()\n",
            "  File \"/usr/local/lib/python3.8/dist-packages/flask/app.py\", line 1952, in full_dispatch_request\n",
            "    rv = self.handle_user_exception(e)\n",
            "  File \"/usr/local/lib/python3.8/dist-packages/flask/app.py\", line 1821, in handle_user_exception\n",
            "    reraise(exc_type, exc_value, tb)\n",
            "  File \"/usr/local/lib/python3.8/dist-packages/flask/_compat.py\", line 39, in reraise\n",
            "    raise value\n",
            "  File \"/usr/local/lib/python3.8/dist-packages/flask/app.py\", line 1950, in full_dispatch_request\n",
            "    rv = self.dispatch_request()\n",
            "  File \"/usr/local/lib/python3.8/dist-packages/flask/app.py\", line 1936, in dispatch_request\n",
            "    return self.view_functions[rule.endpoint](**req.view_args)\n",
            "  File \"<ipython-input-34-15a0f565c9d5>\", line 99, in SentCode\n",
            "    if(int(code) == ver_code):\n",
            "ValueError: invalid literal for int() with base 10: 'dfdfdd'\n",
            "INFO:werkzeug:127.0.0.1 - - [23/Dec/2022 17:25:11] \"\u001b[35m\u001b[1mPOST /SentCode HTTP/1.1\u001b[0m\" 500 -\n"
          ]
        },
        {
          "output_type": "stream",
          "name": "stdout",
          "text": [
            "gelen kod 469635\n",
            "girilen kod dfdfdd\n"
          ]
        },
        {
          "output_type": "stream",
          "name": "stderr",
          "text": [
            "INFO:werkzeug:127.0.0.1 - - [23/Dec/2022 17:25:16] \"\u001b[37mPOST /SentCode HTTP/1.1\u001b[0m\" 200 -\n"
          ]
        },
        {
          "output_type": "stream",
          "name": "stdout",
          "text": [
            "gelen kod 469635\n",
            "girilen kod 34434343\n"
          ]
        },
        {
          "output_type": "stream",
          "name": "stderr",
          "text": [
            "INFO:werkzeug:127.0.0.1 - - [23/Dec/2022 17:25:19] \"\u001b[37mPOST /SentCode HTTP/1.1\u001b[0m\" 200 -\n"
          ]
        },
        {
          "output_type": "stream",
          "name": "stdout",
          "text": [
            "gelen kod 469635\n",
            "girilen kod 434365\n"
          ]
        },
        {
          "output_type": "stream",
          "name": "stderr",
          "text": [
            "INFO:werkzeug:127.0.0.1 - - [23/Dec/2022 17:25:24] \"\u001b[37mPOST /SentCode HTTP/1.1\u001b[0m\" 200 -\n"
          ]
        },
        {
          "output_type": "stream",
          "name": "stdout",
          "text": [
            "gelen kod 469635\n",
            "girilen kod 469635\n"
          ]
        }
      ]
    },
    {
      "cell_type": "code",
      "source": [
        "print(\"vercode\", ver_code)"
      ],
      "metadata": {
        "id": "xDg_MZFeM2J0",
        "outputId": "2473f6b1-de89-420c-8101-f664c5ea4100",
        "colab": {
          "base_uri": "https://localhost:8080/"
        }
      },
      "execution_count": 23,
      "outputs": [
        {
          "output_type": "stream",
          "name": "stdout",
          "text": [
            "vercode 934168\n"
          ]
        }
      ]
    },
    {
      "cell_type": "code",
      "source": [],
      "metadata": {
        "id": "1MPW_1A4p6y_"
      },
      "execution_count": 36,
      "outputs": []
    },
    {
      "cell_type": "code",
      "source": [
        "\n",
        "\n",
        "# Gmail email sunucusuna bağlanıyoruz\n",
        "try:\n",
        "    mail = smtplib.SMTP(\"smtp.gmail.com\",587)\n",
        "    mail.ehlo()\n",
        "    mail.starttls()\n",
        "    mail.login(\"sezerbugday@gmail.com\", \"vqrwxdipzjoftucq\")\n",
        "\n",
        "    mesaj = MIMEMultipart()\n",
        "    mesaj[\"From\"] = \"3D AR Object Platform \"           # Gönderen\n",
        "    mesaj[\"Subject\"] = \"Verification Code\"    # Konusu\n",
        "    mesaj[\"To\"] = \"sezerbugday2@gmail.com \"\n",
        "    body = \" Bu mesaj sezer tarafından python ile gönderilmiştir \"\n",
        "\n",
        "    body_text = MIMEText(body, \"plain\")  #\n",
        "    mesaj.attach(body_text)\n",
        "\n",
        "    mail.sendmail(mesaj[\"From\"], mesaj[\"To\"], mesaj.as_string())\n",
        "    print(\"Mail başarılı bir şekilde gönderildi.\")\n",
        "    mail.close()\n",
        "\n",
        "# Eğer mesaj gönderirken hata olursa, hata mesajını konsole yazdırıyorum.\n",
        "except:\n",
        "    print(\"Hata:\", sys.exc_info()[0])"
      ],
      "metadata": {
        "id": "6fSKDZrRmrpC",
        "outputId": "5f5b8a04-5898-49fe-e4c4-ede3f3f49830",
        "colab": {
          "base_uri": "https://localhost:8080/"
        }
      },
      "execution_count": null,
      "outputs": [
        {
          "output_type": "stream",
          "name": "stdout",
          "text": [
            "Mail başarılı bir şekilde gönderildi.\n"
          ]
        }
      ]
    },
    {
      "cell_type": "code",
      "source": [
        "import sqlite3 as sql\n",
        "\n",
        "con = sql.connect(\"/content/sezerdb.db\", check_same_thread=False)\n",
        "cursor = con.cursor()"
      ],
      "metadata": {
        "id": "0-GQC0VhhtOz"
      },
      "execution_count": null,
      "outputs": []
    },
    {
      "cell_type": "code",
      "source": [
        "name=\"1\"\n",
        "surname=\"2\"\n",
        "email=\"3\"\n",
        "password =\"4\"\n",
        "#cursor.execute(\"insert into Users values('Name','Surname','Password','Email','Is_Active')\",(name, surname, email,password,5))\n",
        "cursor.execute(\"insert into Users values(?,?,?,?,?,?)\",(name, surname, email,password,0,None))\n",
        "con.commit()"
      ],
      "metadata": {
        "id": "3j34qMT6gTGo"
      },
      "execution_count": null,
      "outputs": []
    },
    {
      "cell_type": "code",
      "source": [
        "cursor.execute(\"Select * From Users\")\n",
        "veri = cursor.fetchall() \n",
        "print(veri)"
      ],
      "metadata": {
        "id": "xzLX65BsOcMw",
        "outputId": "8c007357-b27f-4704-a6ce-32a7abaadcb3",
        "colab": {
          "base_uri": "https://localhost:8080/"
        }
      },
      "execution_count": 37,
      "outputs": [
        {
          "output_type": "stream",
          "name": "stdout",
          "text": [
            "[('sezer', 'bugday', '123', 'deneme', 1, 1), (None, None, None, None, None, 2), ('1', '2', '3', '4', 1, 6), ('Name', 'Surname', 'Password', 'Email', 1, 7), ('9', '9', '9', '9', 1, 8), ('Name', 'Surname', 'Password', 'Email', 1, 9), ('9', '9', '9', '9', 1, 10), ('Name', 'Surname', 'Password', 'Email', 1, 11), ('9', '9', '9', '9', 1, 12), ('nisa nur', 'dalkıran', '220322', 'nnurdalkiran@gmail.com', 1, 13), ('sfd', 'sdffsd', 'dsffdssfd', 'sezerbugday@gmail2.com', 1, 14), ('sezer', 'bugday', '220322', 'sezerbugday2@gmail.com', 1, 15), ('sezer', 'bugday', '220322', 'sezerbugday2@gmail.com', 1, 16), ('fds', 'sdf', '15155', 'sezerbugday2@gmail.com', 1, 17), ('fsd', 'sdf', 'wfsddfs', 'sezerbugday2@gmail.com', 1, 18), ('saddsa', 'asasdas', 'sfasfd', 'sezerbugday2@gmail.com', 1, 19), ('sd', 'sd', 'sd', 'sezerbugday2@gmail.com', 1, 20), ('dsgd', 'sgsdf', 'sfdsfd', 'sezerbugday2@gmail.com', 1, 21), ('sfdsdf', 'sdfs', 'sfsfd', 'sezerbugday2@gmail.com', 1, 22), ('sff', 'sfssfs', 'fsdsfd', 'sezerbugday2@gmail.com', 1, 23), ('fsdsdf', 'sfdsfd', 'sfdfsd', 'sezerbugday2@gmail.com', 1, 24), ('dfdfs', 'sfdsfd', 'fsdsfdsdf', 'sezerbugday2@gmail.com', 1, 25), ('dgffdg', 'ddgfdf', 'sfdsfds', 'sezerbugday2@gmail.com', 1, 26), ('sffsd', 'dfsdfs', 'assffsfsd', 'sezerbugday2@gmail.com', 1, 27), ('xdcsd', 'svdsv', 'dgrdgf', 'sezerbugday2@gmail.com', 1, 28), ('sacsa', 'sdaasd', '34335', 'sezerbugday2@gmail.com', 1, 29), ('sdsda', 'adsads', 'sdfsfd', 'sezerbugday2@gmail.com', 1, 30), ('sdffsd', 'sfdsfd', 'sfdfsd', 'sezerbugday2@gmail.com', 1, 31), ('dfdfg', 'dgffgd', 'sdfsfd', 'sezerbugday2@gmail.com', 1, 32), ('sadasd', 'asdasd', 'sdfsddfs', 'sezerbugday2@gmail.com', 1, 33), ('xcvcx', 'xvcxcv', 'fdsfsd', 'sezerbugday2@gmail.com', 1, 34)]\n"
          ]
        }
      ]
    },
    {
      "cell_type": "code",
      "source": [
        "def VeriSil():\n",
        "    cursor.execute(\"DELETE FROM Users\")\n",
        "    con.commit()\n",
        "VeriSil()"
      ],
      "metadata": {
        "id": "2b-87bJhqsZK"
      },
      "execution_count": null,
      "outputs": []
    },
    {
      "cell_type": "code",
      "source": [
        "!git status\n"
      ],
      "metadata": {
        "id": "oxPAUGEpEJb5",
        "outputId": "34e1eb24-8ad1-402e-8491-f8cdff501175",
        "colab": {
          "base_uri": "https://localhost:8080/"
        }
      },
      "execution_count": 46,
      "outputs": [
        {
          "output_type": "stream",
          "name": "stdout",
          "text": [
            "On branch main\n",
            "Your branch is up to date with 'origin/main'.\n",
            "\n",
            "Changes to be committed:\n",
            "  (use \"git reset HEAD <file>...\" to unstage)\n",
            "\n",
            "\t\u001b[32mmodified:   sezerdb.db\u001b[m\n",
            "\t\u001b[32mnew file:   templates/Login.html\u001b[m\n",
            "\t\u001b[32mmodified:   templates/SentVerificationCode.html\u001b[m\n",
            "\n"
          ]
        }
      ]
    },
    {
      "cell_type": "code",
      "source": [
        "!git add --all  "
      ],
      "metadata": {
        "id": "nXT4REf8Efcf"
      },
      "execution_count": 41,
      "outputs": []
    },
    {
      "cell_type": "code",
      "source": [
        "!git config --global user.email \"sezerbugday2@gmail.com\""
      ],
      "metadata": {
        "id": "2IsTt53GE7cI"
      },
      "execution_count": 45,
      "outputs": []
    },
    {
      "cell_type": "code",
      "source": [
        "!git commit -a -m \"dogrulama kodu yapıldı\"\n"
      ],
      "metadata": {
        "id": "IyEbA3etEnru",
        "outputId": "d24a1811-7285-4efc-a75c-943c6a4776d3",
        "colab": {
          "base_uri": "https://localhost:8080/"
        }
      },
      "execution_count": 47,
      "outputs": [
        {
          "output_type": "stream",
          "name": "stdout",
          "text": [
            "[main 76178e0] dogrulama kodu yapıldı\n",
            " 3 files changed, 31 insertions(+), 6 deletions(-)\n",
            " create mode 100644 templates/Login.html\n"
          ]
        }
      ]
    },
    {
      "cell_type": "code",
      "source": [
        "!git branch"
      ],
      "metadata": {
        "id": "sonbfmadFn6a",
        "outputId": "d37e91ab-814f-4a0a-b72c-645424766770",
        "colab": {
          "base_uri": "https://localhost:8080/"
        }
      },
      "execution_count": 49,
      "outputs": [
        {
          "output_type": "stream",
          "name": "stdout",
          "text": [
            "* \u001b[32mmain\u001b[m\n"
          ]
        }
      ]
    },
    {
      "cell_type": "code",
      "source": [
        "!git push origin main"
      ],
      "metadata": {
        "id": "hs98agLqFZpZ",
        "outputId": "e9bb62bc-176f-4ed7-9356-6ace3020f6c0",
        "colab": {
          "base_uri": "https://localhost:8080/"
        }
      },
      "execution_count": 50,
      "outputs": [
        {
          "output_type": "stream",
          "name": "stdout",
          "text": [
            "Counting objects: 6, done.\n",
            "Delta compression using up to 2 threads.\n",
            "Compressing objects:  16% (1/6)   \rCompressing objects:  33% (2/6)   \rCompressing objects:  50% (3/6)   \rCompressing objects:  66% (4/6)   \rCompressing objects:  83% (5/6)   \rCompressing objects: 100% (6/6)   \rCompressing objects: 100% (6/6), done.\n",
            "Writing objects:  16% (1/6)   \rWriting objects:  33% (2/6)   \rWriting objects:  50% (3/6)   \rWriting objects:  66% (4/6)   \rWriting objects:  83% (5/6)   \rWriting objects: 100% (6/6)   \rWriting objects: 100% (6/6), 1.89 KiB | 1.89 MiB/s, done.\n",
            "Total 6 (delta 4), reused 0 (delta 0)\n",
            "remote: Resolving deltas:   0% (0/4)\u001b[K\rremote: Resolving deltas:  25% (1/4)\u001b[K\rremote: Resolving deltas:  50% (2/4)\u001b[K\rremote: Resolving deltas:  75% (3/4)\u001b[K\rremote: Resolving deltas: 100% (4/4)\u001b[K\rremote: Resolving deltas: 100% (4/4), completed with 4 local objects.\u001b[K\n",
            "To https://github.com/SezerBugday/photogrammetry_meshroom_colab_flask.git\n",
            "   57018c8..76178e0  main -> main\n"
          ]
        }
      ]
    }
  ],
  "metadata": {
    "accelerator": "GPU",
    "colab": {
      "provenance": [],
      "include_colab_link": true
    },
    "kernelspec": {
      "display_name": "Python 3",
      "name": "python3"
    },
    "language_info": {
      "name": "python"
    },
    "gpuClass": "standard"
  },
  "nbformat": 4,
  "nbformat_minor": 0
}