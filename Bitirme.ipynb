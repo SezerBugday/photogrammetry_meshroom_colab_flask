{
  "cells": [
    {
      "cell_type": "markdown",
      "metadata": {
        "id": "view-in-github",
        "colab_type": "text"
      },
      "source": [
        "<a href=\"https://colab.research.google.com/github/SezerBugday/photogrammetry_meshroom_colab_flask/blob/main/Bitirme.ipynb\" target=\"_parent\"><img src=\"https://colab.research.google.com/assets/colab-badge.svg\" alt=\"Open In Colab\"/></a>"
      ]
    },
    {
      "cell_type": "code",
      "execution_count": null,
      "metadata": {
        "id": "Gsbk8qIVaom1"
      },
      "outputs": [],
      "source": [
        "!python3 main.py"
      ]
    },
    {
      "cell_type": "code",
      "execution_count": 2,
      "metadata": {
        "id": "eBp2VVtCaom4"
      },
      "outputs": [],
      "source": [
        "from pyngrok import ngrok\n",
        "\n",
        "import os  \n",
        "import shutil  \n",
        "\n",
        "\n",
        "from flask import Flask, flash, request, redirect, url_for,render_template\n",
        "from werkzeug.utils import secure_filename\n",
        "\n",
        "port_no = 5000\n",
        "\n",
        "import sqlite3 as sql\n",
        "\n",
        "\n",
        "con = sql.connect(\"/content/photogrammetry_meshroom_colab_flask/sezerdb.db\", check_same_thread=False)\n",
        "cursor = con.cursor()\n",
        "\n",
        "import smtplib\n",
        "from email.mime.multipart import MIMEMultipart\n",
        "from email.mime.text import MIMEText\n",
        "import sys\n",
        "\n",
        "import random\n"
      ]
    },
    {
      "cell_type": "code",
      "source": [
        "from flask import Flask, flash, request, redirect, url_for, render_template\n",
        "from werkzeug.utils import secure_filename\n",
        "\n",
        "TEMPLATE = \"/content/photogrammetry_meshroom_colab_flask/templates\"\n",
        "app = Flask(__name__, template_folder=TEMPLATE)\n",
        "app._static_folder = '/content/static/'\n",
        "\n",
        "#bootsrapt = Bootstrap(app)\n",
        "islem_durumu=False;\n",
        "\n",
        "\n",
        "app.config['UPLOAD_FOLDER'] = \"/content/kirli\"\n",
        "\n",
        "ngrok.set_auth_token(\"2DJyoS7QMsne6ZsjPBWlik5uBBv_37hajTNHz6NFWXeczXf7A\")\n",
        "public_url = ngrok.connect(port_no).public_url\n",
        "\n",
        "print(f\"To acces the Gloable link please click {public_url}\")\n",
        "\n",
        "\n",
        "@app.route(\"/\")\n",
        "def main_page():\n",
        "\n",
        "    print(\"Anasayfaya donuldu\")\n",
        "    return render_template(\"HomePage.html\")\n",
        "\n",
        "@app.route(\"/uploadimages\", methods=[\"GET\", \"POST\"])\n",
        "def upload_file():\n",
        "    print(\"resimler secildi\")\n",
        "    if request.method == 'POST':\n",
        "        files = request.files.getlist(\"image\")\n",
        "        for file in files:\n",
        "            file.save(os.path.join(app.config['UPLOAD_FOLDER'], file.filename))\n",
        "            print(\"Görseller kaydedildi\")\n",
        "            return redirect(url_for('Show_Process'))\n",
        "    return render_template(\"UploadImages.html\")\n",
        "  \n",
        "@app.route(\"/process\")\n",
        "def Show_Process():\n",
        "  if(islem_durumu==False):\n",
        "    return redirect(url_for('Process'))\n",
        "  return render_template(\"processing.html\")\n",
        "  print(\"isleniyor\")\n",
        "\n",
        "\n",
        "@app.route(\"/sezer\")\n",
        "def Process():\n",
        "  return render_template(\"showModel.html\")\n",
        "  return \"çalisti\"\n",
        "  os.system(\"rembg p /content/kirli   /content/temiz\")\n",
        "  os.system(\"./meshroom/Meshroom-2019.1.0/meshroom_photogrammetry --input /content/temiz --output /content/modelFolder\")\n",
        "  os.system(\"obj2gltf -i /content/modelFolder/model.obj -o /content/static/kup.glb \")\n",
        "  \n",
        "\n",
        "  \n",
        "@app.route(\"/SingUp\", methods=[\"GET\", \"POST\"])\n",
        "def SingUp():\n",
        "   if request.method == 'POST':\n",
        "        name = request.form.get(\"name\")\n",
        "        surname = request.form.get(\"surname\")\n",
        "        global email\n",
        "        email = request.form.get(\"email\")\n",
        "        password = request.form.get(\"password\")\n",
        "        print(\"before db\")\n",
        "        print(name)\n",
        "        try:\n",
        "          cursor.execute(\"insert into Users values(?,?,?,?,?,?)\",(name, surname, password,email,0,None))\n",
        "          con.commit()\n",
        "          print(\"Yeni Kullanıcı kaydedildi\")\n",
        "        except:\n",
        "            print(\"Kaydedilmedi\")\n",
        "        try:\n",
        "          global user_id\n",
        "          cursor.execute(\"SELECT CustomerID  FROM  Users WHERE Email = ? and Password = ? \", (email, password))\n",
        "          veri = cursor.fetchall()\n",
        "          user_id= veri[0][0]\n",
        "          print(veri[0][0])\n",
        "          print(\"Kullanıcı Id alındı\")\n",
        "        except:\n",
        "            print(\"Id alınamadi\")   \n",
        "        # Gmail email sunucusuna bağlanıyoruz\n",
        "        try:\n",
        "            global ver_code\n",
        "            ver_code = random.randint(100000,999999)\n",
        "            print(\"vercode\", ver_code)\n",
        "            mail = smtplib.SMTP(\"smtp.gmail.com\",587)\n",
        "            mail.ehlo()\n",
        "            mail.starttls()\n",
        "            mail.login(\"sezerbugday@gmail.com\", \"vqrwxdipzjoftucq\")\n",
        "            mesaj = MIMEMultipart()\n",
        "            mesaj[\"From\"] = \"3D AR Object Platform \"           # Gönderen\n",
        "            mesaj[\"Subject\"] = \"Verification Code\"   # Konusu\n",
        "            mesaj[\"To\"] = email\n",
        "            #body = \"Your Verification Code :  \"+ str(ver_code)\n",
        "            body = \"To Verify email please click \"+str(public_url)+\"/Deneme/\"+str(user_id) \n",
        "            body_text = MIMEText(body, \"plain\")  #\n",
        "            mesaj.attach(body_text)\n",
        "            mail.sendmail(mesaj[\"From\"], mesaj[\"To\"], mesaj.as_string())\n",
        "            print(\"Mail başarılı bir şekilde gönderildi.\")\n",
        "            mail.close()\n",
        "            return render_template(\"MailVerifed.html\", mail_adress = mesaj[\"To\"])\n",
        "            #return render_template(\"SentVerificationCode.html\")\n",
        "        # Eğer mesaj gönderirken hata olursa, hata mesajını konsole yazdırıyorum.\n",
        "        except:\n",
        "            print(\"Hata:\", sys.exc_info()[0])\n",
        "            \n",
        "   return render_template(\"SingUp.html\")\n",
        "\n",
        "@app.route(\"/SentLink/<string:numara>\")\n",
        "def SentLinkF(numara):\n",
        "         # Gmail email sunucusuna bağlanıyoruz\n",
        "        try:\n",
        "            mail = smtplib.SMTP(\"smtp.gmail.com\",587)\n",
        "            mail.ehlo()\n",
        "            mail.starttls()\n",
        "            mail.login(\"sezerbugday@gmail.com\", \"vqrwxdipzjoftucq\")\n",
        "            mesaj = MIMEMultipart()\n",
        "            mesaj[\"From\"] = \"3D AR Object Platform \"           # Gönderen\n",
        "            mesaj[\"Subject\"] = \"Verification Link\"   # Konusu\n",
        "            mesaj[\"To\"] = \"sezerbugday@gmail.com\"\n",
        "            body = \"To acces the Gloable link please click \"+str(public_url)+str(numara)\n",
        " \n",
        "            body_text = MIMEText(body, \"plain\")  #\n",
        "            mesaj.attach(body_text)\n",
        "            mail.sendmail(mesaj[\"From\"], mesaj[\"To\"], mesaj.as_string())\n",
        "            print(\"Mail başarılı bir şekilde gönderildi.\")\n",
        "            mail.close()\n",
        "            return \"mail_gönderildi\"\n",
        "            #return render_template(\"MailVerifed.html\", mail_adress = mesaj[\"To\"])\n",
        "        # Eğer mesaj gönderirken hata olursa, hata mesajını konsole yazdırıyorum.\n",
        "        except:\n",
        "            print(\"Hata:\", sys.exc_info()[0])\n",
        "            \n",
        "        return render_template(\"SingUp.html\")\n",
        "\n",
        "@app.route(\"/SentCode\", methods=[\"GET\", \"POST\"])\n",
        "def SentCode():\n",
        "  if request.method == 'POST':\n",
        "    code = request.form.get(\"sifre\")\n",
        "    print(\"gelen kod\", ver_code)\n",
        "    print(\"girilen kod\", code)\n",
        "\n",
        "    if(int(code) == ver_code):\n",
        "      cursor.execute(\"UPDATE Users SET Is_Active = 1 WHERE Email = email\" )\n",
        "      con.commit()\n",
        "      return render_template(\"Login.html\",yazi=\"Tebrikler mailiniz onaylandı şimdi giriş yapabilirsiniz.\")\n",
        "    else:\n",
        "      return render_template(\"SentVerificationCode.html\",yazi=\"Mail onaylanmadı kodu tekrar giriniz.\")\n",
        "  return render_template(\"SentVerificationCode.html\")\n",
        "\n",
        "\n",
        "@app.route(\"/Deneme/<string:kim_bu>\")\n",
        "def Deniyorum(kim_bu):\n",
        "    kim_bu= user_id\n",
        "    try:\n",
        "      cursor.execute(\"UPDATE Users SET Is_Active = 1 WHERE CustomerID = ?\", (kim_bu,))\n",
        "      con.commit()\n",
        "      return render_template(\"Login.html\",yazi=\"Kullanıcı maili onaylandı. Giriş Yapabilirsiniz.\")\n",
        "    except:\n",
        "      print(\"Sorgu başarısız\")\n",
        "   \n",
        "\n",
        "\n",
        "@app.route(\"/CheckLogin\", methods=[\"GET\", \"POST\"])\n",
        "def CheckLogin():\n",
        "  if request.method == 'POST':\n",
        "    user_mail = request.form.get(\"email\")\n",
        "    user_password = request.form.get(\"password\")\n",
        "    print(\"Check\",user_mail)\n",
        "    print(\"Check2\",user_password)\n",
        "    cursor.execute(\"SELECT * FROM  Users WHERE Email = ? and Password = ? \", (user_mail, user_password))\n",
        "    veri = cursor.fetchall() \n",
        "    if len(veri) != 0:\n",
        "      return render_template(\"AddProduct.html\")\n",
        "    else:\n",
        "      return render_template(\"Login.html\",yazi=\"Kullanıcı maili veya şifre yanlış tekrar deneyiniz\")\n",
        "  \n",
        "@app.route(\"/SaveProduct\", methods=[\"GET\", \"POST\"])\n",
        "def SaveProduct():\n",
        "  if request.method == 'POST':\n",
        "    product_name = request.form.get(\"product_name\")\n",
        "    product_info = request.form.get(\"product_info\")\n",
        "    user_place1 = request.form.get(\"place1\")\n",
        "    user_place2= request.form.get(\"place2\")\n",
        "    user_place3 = request.form.get(\"place3\")\n",
        "    global product_id\n",
        "    product_id = random.randint(100000,999999)\n",
        "\n",
        "    print(product_id)\n",
        "    ozel_link =str(public_url)+\"/Products/\"+str(product_id)\n",
        "    cursor.execute(\"insert into Products values(?,?,?,?,?,?,?,?)\",(product_name,user_id,product_id, product_info, ozel_link,user_place1,user_place2,user_place3))\n",
        "    con.commit()\n",
        "    \n",
        "    return render_template(\"ProductPage.html\",str(product_id)+\".glb\",isim=product_name,bilgi=product_info,ozel_url=ozel_link, url1=user_place1,url2=user_place2,url3=user_place3)\n",
        "   \n",
        "@app.route(\"/Products/<string:numara>\") #\n",
        "def Products(numara):\n",
        "    numara= product_id\n",
        "    print(\"sorgu öncesi\")\n",
        "    cursor.execute(\"SELECT * FROM  Products WHERE ProductID = ? \", (numara,))\n",
        "    veri = cursor.fetchall() \n",
        "    print(\"sorgu sonrası\")\n",
        "    if len(veri) != 0:\n",
        "      print(\"veri bulundu\")\n",
        "\n",
        "      return render_template(\"ProductPage.html\", isim=veri[0][0],bilgi=veri[0][3], \n",
        "        ozel_url=veri[0][4], url1=veri[0][5],\n",
        "        url2=veri[0][6],url3=veri[0][7])\n",
        "    else:\n",
        "      return \"UrunBulunmadi\"\n",
        "       \n",
        "if __name__ == \"__main__\":\n",
        "    app.run()"
      ],
      "metadata": {
        "id": "CFbAfrfbvXHF",
        "outputId": "36afd1f1-df3d-497c-f05b-93151d6b4bc1",
        "colab": {
          "base_uri": "https://localhost:8080/"
        }
      },
      "execution_count": 10,
      "outputs": [
        {
          "output_type": "stream",
          "name": "stdout",
          "text": [
            "To acces the Gloable link please click http://6a63-104-196-110-222.ngrok.io\n",
            " * Serving Flask app \"__main__\" (lazy loading)\n",
            " * Environment: production\n",
            "\u001b[31m   WARNING: This is a development server. Do not use it in a production deployment.\u001b[0m\n",
            "\u001b[2m   Use a production WSGI server instead.\u001b[0m\n",
            " * Debug mode: off\n"
          ]
        },
        {
          "output_type": "stream",
          "name": "stderr",
          "text": [
            "INFO:werkzeug: * Running on http://127.0.0.1:5000/ (Press CTRL+C to quit)\n",
            "INFO:werkzeug:127.0.0.1 - - [14/Jan/2023 11:10:25] \"\u001b[37mGET / HTTP/1.1\u001b[0m\" 200 -\n"
          ]
        },
        {
          "output_type": "stream",
          "name": "stdout",
          "text": [
            "Anasayfaya donuldu\n"
          ]
        },
        {
          "output_type": "stream",
          "name": "stderr",
          "text": [
            "INFO:werkzeug:127.0.0.1 - - [14/Jan/2023 11:10:25] \"\u001b[37mGET /static/logo.png HTTP/1.1\u001b[0m\" 200 -\n",
            "INFO:werkzeug:127.0.0.1 - - [14/Jan/2023 11:10:25] \"\u001b[37mGET /static/Vr_image.png HTTP/1.1\u001b[0m\" 200 -\n",
            "INFO:werkzeug:127.0.0.1 - - [14/Jan/2023 11:10:26] \"\u001b[33mGET /favicon.ico HTTP/1.1\u001b[0m\" 404 -\n",
            "INFO:werkzeug:127.0.0.1 - - [14/Jan/2023 11:10:26] \"\u001b[37mGET /uploadimages HTTP/1.1\u001b[0m\" 200 -\n"
          ]
        },
        {
          "output_type": "stream",
          "name": "stdout",
          "text": [
            "resimler secildi\n"
          ]
        },
        {
          "output_type": "stream",
          "name": "stderr",
          "text": [
            "INFO:werkzeug:127.0.0.1 - - [14/Jan/2023 11:10:27] \"\u001b[37mGET /static/background.png HTTP/1.1\u001b[0m\" 200 -\n"
          ]
        },
        {
          "output_type": "stream",
          "name": "stdout",
          "text": [
            "resimler secildi\n"
          ]
        },
        {
          "output_type": "stream",
          "name": "stderr",
          "text": [
            "INFO:werkzeug:127.0.0.1 - - [14/Jan/2023 11:10:32] \"\u001b[32mPOST /uploadimages HTTP/1.1\u001b[0m\" 302 -\n"
          ]
        },
        {
          "output_type": "stream",
          "name": "stdout",
          "text": [
            "Görseller kaydedildi\n"
          ]
        },
        {
          "output_type": "stream",
          "name": "stderr",
          "text": [
            "INFO:werkzeug:127.0.0.1 - - [14/Jan/2023 11:10:32] \"\u001b[32mGET /process HTTP/1.1\u001b[0m\" 302 -\n",
            "INFO:werkzeug:127.0.0.1 - - [14/Jan/2023 11:10:32] \"\u001b[37mGET /sezer HTTP/1.1\u001b[0m\" 200 -\n",
            "INFO:werkzeug:127.0.0.1 - - [14/Jan/2023 11:10:34] \"\u001b[37mGET /static/kup.glb HTTP/1.1\u001b[0m\" 200 -\n",
            "INFO:werkzeug:127.0.0.1 - - [14/Jan/2023 11:10:38] \"\u001b[37mGET /SingUp HTTP/1.1\u001b[0m\" 200 -\n",
            "INFO:werkzeug:127.0.0.1 - - [14/Jan/2023 11:10:38] \"\u001b[33mGET /sgn-up.css HTTP/1.1\u001b[0m\" 404 -\n"
          ]
        },
        {
          "output_type": "stream",
          "name": "stdout",
          "text": [
            "before db\n",
            "sezer\n",
            "Yeni Kullanıcı kaydedildi\n",
            "63\n",
            "Kullanıcı Id alındı\n",
            "vercode 463593\n"
          ]
        },
        {
          "output_type": "stream",
          "name": "stderr",
          "text": [
            "INFO:werkzeug:127.0.0.1 - - [14/Jan/2023 11:11:10] \"\u001b[37mPOST /SingUp HTTP/1.1\u001b[0m\" 200 -\n"
          ]
        },
        {
          "output_type": "stream",
          "name": "stdout",
          "text": [
            "Mail başarılı bir şekilde gönderildi.\n"
          ]
        },
        {
          "output_type": "stream",
          "name": "stderr",
          "text": [
            "INFO:werkzeug:127.0.0.1 - - [14/Jan/2023 11:11:39] \"\u001b[37mGET /Deneme/63 HTTP/1.1\u001b[0m\" 200 -\n"
          ]
        }
      ]
    },
    {
      "cell_type": "code",
      "source": [
        "\n",
        "\n",
        "# Gmail email sunucusuna bağlanıyoruz\n",
        "try:\n",
        "    mail = smtplib.SMTP(\"smtp.gmail.com\",587)\n",
        "    mail.ehlo()\n",
        "    mail.starttls()\n",
        "    mail.login(\"sezerbugday@gmail.com\", \"vqrwxdipzjoftucq\")\n",
        "\n",
        "    mesaj = MIMEMultipart()\n",
        "    mesaj[\"From\"] = \"3D AR Object Platform \"           # Gönderen\n",
        "    mesaj[\"Subject\"] = \"Verification Code\"    # Konusu\n",
        "    mesaj[\"To\"] = \"sezerbugday2@gmail.com \"\n",
        "    body = \" Bu mesaj sezer tarafından python ile gönderilmiştir \"\n",
        "\n",
        "    body_text = MIMEText(body, \"plain\")  #\n",
        "    mesaj.attach(body_text)\n",
        "\n",
        "    mail.sendmail(mesaj[\"From\"], mesaj[\"To\"], mesaj.as_string())\n",
        "    print(\"Mail başarılı bir şekilde gönderildi.\")\n",
        "    mail.close()\n",
        "\n",
        "# Eğer mesaj gönderirken hata olursa, hata mesajını konsole yazdırıyorum.\n",
        "except:\n",
        "    print(\"Hata:\", sys.exc_info()[0])"
      ],
      "metadata": {
        "id": "6fSKDZrRmrpC",
        "outputId": "44bc4336-144f-4bc2-ffed-84ec169bee5c",
        "colab": {
          "base_uri": "https://localhost:8080/"
        }
      },
      "execution_count": 4,
      "outputs": [
        {
          "output_type": "stream",
          "name": "stdout",
          "text": [
            "Mail başarılı bir şekilde gönderildi.\n"
          ]
        }
      ]
    },
    {
      "cell_type": "code",
      "source": [
        "numara= user_id\n",
        "print(numara)\n",
        "print(user_id)\n",
        "print(\"sorgu öncesi\")\n",
        "cursor.execute(\"SELECT * FROM  Products WHERE ProductID = 61 \")\n",
        "veri = cursor.fetchall() \n",
        "print(veri)\n",
        "cursor.execute(\"Select * From Users\")\n",
        "user_veri = cursor.fetchall() \n",
        "print(user_veri)"
      ],
      "metadata": {
        "id": "xzLX65BsOcMw",
        "outputId": "34ce329e-8442-4a45-b420-b325a2fbd10d",
        "colab": {
          "base_uri": "https://localhost:8080/"
        }
      },
      "execution_count": null,
      "outputs": [
        {
          "output_type": "stream",
          "name": "stdout",
          "text": [
            "61\n",
            "61\n",
            "sorgu öncesi\n",
            "[]\n",
            "[('sezer', 'bugday', '123456', 'sezerbugday2@gmail.com', 1, 55), ('deneme2', 'deneme2', 'sezer', 'sezerbugday2@gmail.com', 1, 56), ('deneme3', 'deneme3', '0000', 'sezerbugday2@gmail.com', 1, 57), ('sezer', 'gdfgdf', '111', 'sezerbugday2@gmail.com', 1, 58), ('nisa', 'dalkiran', '2001', 'sezerbugday2@gmail.com', 1, 59), ('sezer', 'sezer', '000000', 'sezerbugday2@gmail.com', 1, 60), ('sd', 'dsds', '999999', 'sezerbugday2@gmail.com', 1, 61)]\n"
          ]
        }
      ]
    },
    {
      "cell_type": "code",
      "source": [
        "password=\"123456\"\n",
        "cursor.execute(\"SELECT CustomerID  FROM  Users WHERE Email = ? and Password = ? \", (email, password))\n",
        "veri = cursor.fetchall()\n",
        "print(veri[0][0])"
      ],
      "metadata": {
        "id": "D_IyG5OPU0FR",
        "outputId": "330cfee2-90bb-4b73-8bf1-62206ea7f413",
        "colab": {
          "base_uri": "https://localhost:8080/"
        }
      },
      "execution_count": null,
      "outputs": [
        {
          "output_type": "stream",
          "name": "stdout",
          "text": [
            "55\n"
          ]
        }
      ]
    },
    {
      "cell_type": "code",
      "source": [
        "cursor.execute(\"insert into Users values(?,?,?,?,?,?)\",(\"name\", \"surname\", \"123456\",\"sezerbugday2@gmail.com\",0,None))\n",
        "con.commit()"
      ],
      "metadata": {
        "id": "kMFSoGl5NLL5"
      },
      "execution_count": null,
      "outputs": []
    },
    {
      "cell_type": "code",
      "source": [
        "cursor.execute(\"SELECT * FROM  Users WHERE Email = 'sezerbugday2@gmail.com' and Password = 123456\")\n",
        "veri = cursor.fetchall() \n",
        "print(veri)\n",
        "print(len(veri))"
      ],
      "metadata": {
        "id": "GJ4wlpoENCWy",
        "outputId": "b01fe76e-a94d-44fb-ca75-d28114950df5",
        "colab": {
          "base_uri": "https://localhost:8080/"
        }
      },
      "execution_count": null,
      "outputs": [
        {
          "output_type": "stream",
          "name": "stdout",
          "text": [
            "[('name', 'surname', '123456', 'sezerbugday2@gmail.com', 1, 35), ('dsfd', 'sdfdsf', '123456', 'sezerbugday2@gmail.com', 1, 40), ('fsddfs', 'sdfsdfds', '123456', 'sezerbugday2@gmail.com', 1, 43)]\n",
            "3\n"
          ]
        }
      ]
    },
    {
      "cell_type": "code",
      "source": [
        "def VeriSil():\n",
        "    cursor.execute(\"DELETE FROM Products\")\n",
        "    con.commit()\n",
        "VeriSil()"
      ],
      "metadata": {
        "id": "2b-87bJhqsZK"
      },
      "execution_count": null,
      "outputs": []
    },
    {
      "cell_type": "code",
      "source": [
        "cursor.execute(\"SELECT Products.CustomerID,Users.name,Users.Surname,Products.Name, Products.ProductID FROM Users INNER JOIN Products ON Users.CustomerID = Products.CustomerID ;\")\n",
        "veri = cursor.fetchall() \n",
        "print(veri)\n"
      ],
      "metadata": {
        "id": "fAYKYZKpSWJ9",
        "outputId": "f02d322f-196c-4822-f0cf-ae0ca83b34ae",
        "colab": {
          "base_uri": "https://localhost:8080/"
        }
      },
      "execution_count": null,
      "outputs": [
        {
          "output_type": "stream",
          "name": "stdout",
          "text": [
            "[(55, 'sezer', 'bugday', 'urun', 6)]\n"
          ]
        }
      ]
    },
    {
      "cell_type": "code",
      "source": [
        "cursor.execute(\"SELECT * From Products\")\n",
        "veri = cursor.fetchall() \n",
        "print(veri)"
      ],
      "metadata": {
        "id": "Dq_or6L9Sqpq",
        "outputId": "f04cd3e3-55fa-4a37-930b-0e67da494463",
        "colab": {
          "base_uri": "https://localhost:8080/"
        }
      },
      "execution_count": null,
      "outputs": [
        {
          "output_type": "stream",
          "name": "stdout",
          "text": [
            "[]\n"
          ]
        }
      ]
    },
    {
      "cell_type": "code",
      "source": [
        "password=\"10\"\n",
        "cursor.execute(\"SELECT *  FROM  Products WHERE  ProductID = ?  \", (password,))\n",
        "veri = cursor.fetchall()\n",
        "print(veri[0][3])"
      ],
      "metadata": {
        "colab": {
          "base_uri": "https://localhost:8080/"
        },
        "id": "sofGLjma4PmN",
        "outputId": "f4c8e97d-edef-4c5b-8081-f4b99e899512"
      },
      "execution_count": null,
      "outputs": [
        {
          "output_type": "stream",
          "name": "stdout",
          "text": [
            "telefon bilgisi\n"
          ]
        }
      ]
    },
    {
      "cell_type": "code",
      "source": [
        "%cd /content/photogrammetry_meshroom_colab_flask"
      ],
      "metadata": {
        "colab": {
          "base_uri": "https://localhost:8080/"
        },
        "id": "FapSZiZal00O",
        "outputId": "0d657ad9-6d33-47c4-deb3-23cd16cfcf16"
      },
      "execution_count": null,
      "outputs": [
        {
          "output_type": "stream",
          "name": "stdout",
          "text": [
            "/content/photogrammetry_meshroom_colab_flask\n"
          ]
        }
      ]
    },
    {
      "cell_type": "code",
      "source": [
        "!git status\n"
      ],
      "metadata": {
        "id": "oxPAUGEpEJb5",
        "outputId": "3eedac06-8896-43b0-f03d-0856ba10befc",
        "colab": {
          "base_uri": "https://localhost:8080/"
        }
      },
      "execution_count": null,
      "outputs": [
        {
          "output_type": "stream",
          "name": "stdout",
          "text": [
            "On branch main\n",
            "Your branch is up to date with 'origin/main'.\n",
            "\n",
            "Changes not staged for commit:\n",
            "  (use \"git add <file>...\" to update what will be committed)\n",
            "  (use \"git checkout -- <file>...\" to discard changes in working directory)\n",
            "\n",
            "\t\u001b[31mmodified:   sezerdb.db\u001b[m\n",
            "\t\u001b[31mmodified:   templates/AddProduct.html\u001b[m\n",
            "\t\u001b[31mmodified:   templates/Profil.html\u001b[m\n",
            "\n",
            "no changes added to commit (use \"git add\" and/or \"git commit -a\")\n"
          ]
        }
      ]
    },
    {
      "cell_type": "code",
      "source": [
        "!git add --all  "
      ],
      "metadata": {
        "id": "nXT4REf8Efcf"
      },
      "execution_count": null,
      "outputs": []
    },
    {
      "cell_type": "code",
      "source": [
        "!git config --global user.email \"sezerbugday2@gmail.com\""
      ],
      "metadata": {
        "id": "2IsTt53GE7cI"
      },
      "execution_count": null,
      "outputs": []
    },
    {
      "cell_type": "code",
      "source": [
        "!git commit -a -m \"urun tablosu eklendi\"\n"
      ],
      "metadata": {
        "id": "IyEbA3etEnru",
        "outputId": "942e3566-2882-4a43-bc76-f612557e9551",
        "colab": {
          "base_uri": "https://localhost:8080/"
        }
      },
      "execution_count": null,
      "outputs": [
        {
          "output_type": "stream",
          "name": "stdout",
          "text": [
            "[main 8f0acd0] urun tablosu eklendi\n",
            " 3 files changed, 24 insertions(+), 9 deletions(-)\n"
          ]
        }
      ]
    },
    {
      "cell_type": "code",
      "source": [
        "!git branch"
      ],
      "metadata": {
        "id": "sonbfmadFn6a",
        "outputId": "d7c54d82-944e-4b33-943a-1b2f4b1bc1e2",
        "colab": {
          "base_uri": "https://localhost:8080/"
        }
      },
      "execution_count": null,
      "outputs": [
        {
          "output_type": "stream",
          "name": "stdout",
          "text": [
            "* \u001b[32mmain\u001b[m\n"
          ]
        }
      ]
    },
    {
      "cell_type": "code",
      "source": [
        "!git push origin main"
      ],
      "metadata": {
        "id": "hs98agLqFZpZ",
        "outputId": "a86d0918-01e4-4e6a-9011-905b95c02b64",
        "colab": {
          "base_uri": "https://localhost:8080/"
        }
      },
      "execution_count": null,
      "outputs": [
        {
          "output_type": "stream",
          "name": "stdout",
          "text": [
            "Counting objects: 6, done.\n",
            "Delta compression using up to 2 threads.\n",
            "Compressing objects:  16% (1/6)   \rCompressing objects:  33% (2/6)   \rCompressing objects:  50% (3/6)   \rCompressing objects:  66% (4/6)   \rCompressing objects:  83% (5/6)   \rCompressing objects: 100% (6/6)   \rCompressing objects: 100% (6/6), done.\n",
            "Writing objects:  16% (1/6)   \rWriting objects:  33% (2/6)   \rWriting objects:  50% (3/6)   \rWriting objects:  66% (4/6)   \rWriting objects:  83% (5/6)   \rWriting objects: 100% (6/6)   \rWriting objects: 100% (6/6), 1.24 KiB | 1.24 MiB/s, done.\n",
            "Total 6 (delta 5), reused 0 (delta 0)\n",
            "remote: Resolving deltas: 100% (5/5), completed with 5 local objects.\u001b[K\n",
            "To https://github.com/SezerBugday/photogrammetry_meshroom_colab_flask.git\n",
            "   5c6afc6..8f0acd0  main -> main\n"
          ]
        }
      ]
    }
  ],
  "metadata": {
    "accelerator": "GPU",
    "colab": {
      "provenance": [],
      "include_colab_link": true
    },
    "kernelspec": {
      "display_name": "Python 3",
      "name": "python3"
    },
    "language_info": {
      "name": "python"
    },
    "gpuClass": "standard"
  },
  "nbformat": 4,
  "nbformat_minor": 0
}